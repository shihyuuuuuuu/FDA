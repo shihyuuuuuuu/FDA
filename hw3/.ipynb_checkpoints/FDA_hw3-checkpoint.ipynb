{
 "cells": [
  {
   "cell_type": "markdown",
   "metadata": {},
   "source": [
    "# Stock Movement Prediction\n",
    "Dataset: [S&P 500](https://www.sharecast.com/index/SP_500/prices/download)<br>\n",
    "Goal: Predict future **close price**\n",
    "\n",
    "Implement by three methods:\n",
    "1. Linear Regression\n",
    "2. SVM\n",
    "3. Neural Network(LSTM)"
   ]
  },
  {
   "cell_type": "code",
   "execution_count": 1,
   "metadata": {
    "_cell_guid": "b1076dfc-b9ad-4769-8c92-a6c4dae69d19",
    "_uuid": "8f2839f25d086af736a60e9eeb907d3b93b6e0e5"
   },
   "outputs": [],
   "source": [
    "from sklearn import linear_model\n",
    "import matplotlib.pyplot as plt\n",
    "import numpy as np\n",
    "import pandas as pd\n",
    "import csv\n",
    "from datetime import datetime"
   ]
  },
  {
   "cell_type": "markdown",
   "metadata": {},
   "source": [
    "### Build training and testing data\n",
    "產生training和testing資料，收盤價（Close Price）是要預測的label，所以單獨切出來。<br>\n",
    "train_x: 利用前30天的Open Price, High Price, Low Price, Close, Volume, year, month,date, day作為Features，shape為(30, 5)"
   ]
  },
  {
   "cell_type": "code",
   "execution_count": 2,
   "metadata": {},
   "outputs": [],
   "source": [
    "train = pd.read_csv(\"train.csv\")\n",
    "test = pd.read_csv(\"test.csv\")"
   ]
  },
  {
   "cell_type": "code",
   "execution_count": 3,
   "metadata": {},
   "outputs": [
    {
     "data": {
      "text/html": [
       "<div>\n",
       "<style scoped>\n",
       "    .dataframe tbody tr th:only-of-type {\n",
       "        vertical-align: middle;\n",
       "    }\n",
       "\n",
       "    .dataframe tbody tr th {\n",
       "        vertical-align: top;\n",
       "    }\n",
       "\n",
       "    .dataframe thead th {\n",
       "        text-align: right;\n",
       "    }\n",
       "</style>\n",
       "<table border=\"1\" class=\"dataframe\">\n",
       "  <thead>\n",
       "    <tr style=\"text-align: right;\">\n",
       "      <th></th>\n",
       "      <th>Open Price</th>\n",
       "      <th>Close Price</th>\n",
       "      <th>High Price</th>\n",
       "      <th>Low Price</th>\n",
       "      <th>Volume</th>\n",
       "      <th>year</th>\n",
       "      <th>month</th>\n",
       "      <th>date</th>\n",
       "      <th>day</th>\n",
       "    </tr>\n",
       "  </thead>\n",
       "  <tbody>\n",
       "    <tr>\n",
       "      <th>0</th>\n",
       "      <td>902.99</td>\n",
       "      <td>931.80</td>\n",
       "      <td>934.73</td>\n",
       "      <td>899.35</td>\n",
       "      <td>4048270080</td>\n",
       "      <td>2009</td>\n",
       "      <td>1</td>\n",
       "      <td>2</td>\n",
       "      <td>4</td>\n",
       "    </tr>\n",
       "    <tr>\n",
       "      <th>1</th>\n",
       "      <td>929.17</td>\n",
       "      <td>927.45</td>\n",
       "      <td>936.63</td>\n",
       "      <td>919.53</td>\n",
       "      <td>5413910016</td>\n",
       "      <td>2009</td>\n",
       "      <td>1</td>\n",
       "      <td>5</td>\n",
       "      <td>0</td>\n",
       "    </tr>\n",
       "    <tr>\n",
       "      <th>2</th>\n",
       "      <td>931.17</td>\n",
       "      <td>934.70</td>\n",
       "      <td>943.85</td>\n",
       "      <td>927.28</td>\n",
       "      <td>5392620032</td>\n",
       "      <td>2009</td>\n",
       "      <td>1</td>\n",
       "      <td>6</td>\n",
       "      <td>1</td>\n",
       "    </tr>\n",
       "    <tr>\n",
       "      <th>3</th>\n",
       "      <td>927.45</td>\n",
       "      <td>906.65</td>\n",
       "      <td>927.45</td>\n",
       "      <td>902.37</td>\n",
       "      <td>4704940032</td>\n",
       "      <td>2009</td>\n",
       "      <td>1</td>\n",
       "      <td>7</td>\n",
       "      <td>2</td>\n",
       "    </tr>\n",
       "    <tr>\n",
       "      <th>4</th>\n",
       "      <td>905.73</td>\n",
       "      <td>909.73</td>\n",
       "      <td>910.00</td>\n",
       "      <td>896.81</td>\n",
       "      <td>4991549952</td>\n",
       "      <td>2009</td>\n",
       "      <td>1</td>\n",
       "      <td>8</td>\n",
       "      <td>3</td>\n",
       "    </tr>\n",
       "  </tbody>\n",
       "</table>\n",
       "</div>"
      ],
      "text/plain": [
       "   Open Price  Close Price  High Price  Low Price      Volume  year  month  \\\n",
       "0      902.99       931.80      934.73     899.35  4048270080  2009      1   \n",
       "1      929.17       927.45      936.63     919.53  5413910016  2009      1   \n",
       "2      931.17       934.70      943.85     927.28  5392620032  2009      1   \n",
       "3      927.45       906.65      927.45     902.37  4704940032  2009      1   \n",
       "4      905.73       909.73      910.00     896.81  4991549952  2009      1   \n",
       "\n",
       "   date  day  \n",
       "0     2    4  \n",
       "1     5    0  \n",
       "2     6    1  \n",
       "3     7    2  \n",
       "4     8    3  "
      ]
     },
     "execution_count": 3,
     "metadata": {},
     "output_type": "execute_result"
    }
   ],
   "source": [
    "def build_data(df):\n",
    "    df['Date'] = pd.to_datetime(df['Date'])\n",
    "    df['year'] = df['Date'].dt.year\n",
    "    df['month'] = df['Date'].dt.month\n",
    "    df['date'] = df['Date'].dt.day\n",
    "    df['day'] = df['Date'].dt.dayofweek\n",
    "    df = df.drop(['Date'], axis=1)\n",
    "    return df\n",
    "train = build_data(train)\n",
    "test = build_data(test)\n",
    "train.head()"
   ]
  },
  {
   "cell_type": "code",
   "execution_count": 5,
   "metadata": {
    "_cell_guid": "79c7e3d0-c299-4dcb-8224-4455121ee9b0",
    "_uuid": "d629ff2d2480ee46fbb7e2d37f6b5fab8052498a"
   },
   "outputs": [],
   "source": [
    "train_y = train['Close Price'].values\n",
    "#train_x = train.drop('Close Price', 1)\n",
    "test_y = test['Close Price'].values\n",
    "#test_x = test.drop('Close Price', 1)\n",
    "#train_x.head()"
   ]
  },
  {
   "cell_type": "code",
   "execution_count": 149,
   "metadata": {},
   "outputs": [
    {
     "name": "stdout",
     "output_type": "stream",
     "text": [
      "(2264, 8)\n",
      "(2264,)\n",
      "(252, 8)\n",
      "(252,)\n"
     ]
    }
   ],
   "source": [
    "print(train_x.shape)\n",
    "print(train_y.shape)\n",
    "print(test_x.shape)\n",
    "print(test_y.shape)"
   ]
  },
  {
   "cell_type": "code",
   "execution_count": 150,
   "metadata": {},
   "outputs": [
    {
     "name": "stdout",
     "output_type": "stream",
     "text": [
      "2234\n",
      "(2234, 30)\n",
      "(222, 30)\n",
      "[934.73 936.63 943.85 927.45 910.   911.93 890.4  877.02 867.28 851.59\n",
      " 858.13 849.64 841.72 839.74 838.61 852.53 850.45 877.86 868.89 851.66\n",
      " 830.78 842.6  851.85 850.55 870.75 875.01 868.05 838.22 835.48 839.43]\n",
      "2698.63\n"
     ]
    }
   ],
   "source": [
    "past_day = 30\n",
    "x_train = []\n",
    "x_test = []\n",
    "print(train_x.shape[0] - past_day)\n",
    "def past_month(df, out):\n",
    "    for i, day in enumerate(range(df.shape[0] - past_day)):\n",
    "        df2 = np.asarray(df.loc[i:i +past_day-1]['High Price'])\n",
    "        out.append(df2)\n",
    "past_month(train_x, x_train)\n",
    "past_month(test_x, x_test)\n",
    "x_train = np.asarray(x_train)\n",
    "x_test = np.asarray(x_test)\n",
    "print(x_train.shape)\n",
    "print(x_test.shape)\n",
    "train_y = train_y[30:]\n",
    "test_y = test_y[30:]\n",
    "print(x_train[0])\n",
    "print(test_y[0])"
   ]
  },
  {
   "cell_type": "code",
   "execution_count": 151,
   "metadata": {},
   "outputs": [
    {
     "data": {
      "image/png": "[encoded data removed]",
      "text/plain": [
       "<Figure size 432x288 with 1 Axes>"
      ]
     },
     "metadata": {},
     "output_type": "display_data"
    }
   ],
   "source": [
    "#train_dates = train_dates.reshape(len(train_dates), 1)\n",
    "#test_dates = test_dates.reshape(len(test_dates), 1)\n",
    "#print(train_dates.shape)\n",
    "#print(train_y.shape)\n",
    "#print(x_train.shape())\n",
    "#print(train_y.shape())\n",
    "\n",
    "regr = linear_model.LinearRegression()\n",
    "regr.fit(x_train, train_y)\n",
    "y_pred = regr.predict(x_test)\n",
    "plt.plot(y_pred)\n",
    "plt.plot(test_y)\n",
    "plt.grid()\n",
    "plt.show()"
   ]
  },
  {
   "cell_type": "markdown",
   "metadata": {},
   "source": [
    "## Linear Regression"
   ]
  },
  {
   "cell_type": "markdown",
   "metadata": {},
   "source": [
    "## SVM"
   ]
  },
  {
   "cell_type": "code",
   "execution_count": null,
   "metadata": {},
   "outputs": [],
   "source": []
  },
  {
   "cell_type": "markdown",
   "metadata": {},
   "source": [
    "## Neural Network(LSTM)"
   ]
  }
 ],
 "metadata": {
  "kernelspec": {
   "display_name": "Python 3",
   "language": "python",
   "name": "python3"
  },
  "language_info": {
   "codemirror_mode": {
    "name": "ipython",
    "version": 3
   },
   "file_extension": ".py",
   "mimetype": "text/x-python",
   "name": "python",
   "nbconvert_exporter": "python",
   "pygments_lexer": "ipython3",
   "version": "3.6.7"
  }
 },
 "nbformat": 4,
 "nbformat_minor": 1
}
