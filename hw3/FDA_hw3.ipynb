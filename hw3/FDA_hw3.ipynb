{
 "cells": [
  {
   "cell_type": "markdown",
   "metadata": {},
   "source": [
    "# Stock Movement Prediction\n",
    "Dataset: [S&P 500](https://www.sharecast.com/index/SP_500/prices/download)<br>\n",
    "Goal: Predict future **close price**\n",
    "\n",
    "Implement by three methods:\n",
    "1. Linear Regression\n",
    "2. SVM\n",
    "3. Neural Network(LSTM)"
   ]
  },
  {
   "cell_type": "code",
   "execution_count": 1,
   "metadata": {
    "_cell_guid": "b1076dfc-b9ad-4769-8c92-a6c4dae69d19",
    "_uuid": "8f2839f25d086af736a60e9eeb907d3b93b6e0e5"
   },
   "outputs": [],
   "source": [
    "from sklearn import linear_model, metrics\n",
    "import matplotlib.pyplot as plt\n",
    "import numpy as np\n",
    "import pandas as pd\n",
    "import csv\n",
    "from datetime import datetime\n",
    "from sklearn.metrics import accuracy_score"
   ]
  },
  {
   "cell_type": "markdown",
   "metadata": {},
   "source": [
    "### Build training and testing data"
   ]
  },
  {
   "cell_type": "code",
   "execution_count": 2,
   "metadata": {},
   "outputs": [],
   "source": [
    "train = pd.read_csv(\"train.csv\")\n",
    "test = pd.read_csv(\"test.csv\")"
   ]
  },
  {
   "cell_type": "code",
   "execution_count": 3,
   "metadata": {},
   "outputs": [
    {
     "data": {
      "text/html": [
       "<div>\n",
       "<style scoped>\n",
       "    .dataframe tbody tr th:only-of-type {\n",
       "        vertical-align: middle;\n",
       "    }\n",
       "\n",
       "    .dataframe tbody tr th {\n",
       "        vertical-align: top;\n",
       "    }\n",
       "\n",
       "    .dataframe thead th {\n",
       "        text-align: right;\n",
       "    }\n",
       "</style>\n",
       "<table border=\"1\" class=\"dataframe\">\n",
       "  <thead>\n",
       "    <tr style=\"text-align: right;\">\n",
       "      <th></th>\n",
       "      <th>Open Price</th>\n",
       "      <th>Close Price</th>\n",
       "      <th>High Price</th>\n",
       "      <th>Low Price</th>\n",
       "      <th>Volume</th>\n",
       "      <th>year</th>\n",
       "      <th>month</th>\n",
       "      <th>date</th>\n",
       "      <th>day</th>\n",
       "      <th>Rise</th>\n",
       "    </tr>\n",
       "  </thead>\n",
       "  <tbody>\n",
       "    <tr>\n",
       "      <th>0</th>\n",
       "      <td>902.99</td>\n",
       "      <td>931.80</td>\n",
       "      <td>934.73</td>\n",
       "      <td>899.35</td>\n",
       "      <td>4048270080</td>\n",
       "      <td>2009</td>\n",
       "      <td>1</td>\n",
       "      <td>2</td>\n",
       "      <td>4</td>\n",
       "      <td>0</td>\n",
       "    </tr>\n",
       "    <tr>\n",
       "      <th>1</th>\n",
       "      <td>929.17</td>\n",
       "      <td>927.45</td>\n",
       "      <td>936.63</td>\n",
       "      <td>919.53</td>\n",
       "      <td>5413910016</td>\n",
       "      <td>2009</td>\n",
       "      <td>1</td>\n",
       "      <td>5</td>\n",
       "      <td>0</td>\n",
       "      <td>0</td>\n",
       "    </tr>\n",
       "    <tr>\n",
       "      <th>2</th>\n",
       "      <td>931.17</td>\n",
       "      <td>934.70</td>\n",
       "      <td>943.85</td>\n",
       "      <td>927.28</td>\n",
       "      <td>5392620032</td>\n",
       "      <td>2009</td>\n",
       "      <td>1</td>\n",
       "      <td>6</td>\n",
       "      <td>1</td>\n",
       "      <td>1</td>\n",
       "    </tr>\n",
       "    <tr>\n",
       "      <th>3</th>\n",
       "      <td>927.45</td>\n",
       "      <td>906.65</td>\n",
       "      <td>927.45</td>\n",
       "      <td>902.37</td>\n",
       "      <td>4704940032</td>\n",
       "      <td>2009</td>\n",
       "      <td>1</td>\n",
       "      <td>7</td>\n",
       "      <td>2</td>\n",
       "      <td>0</td>\n",
       "    </tr>\n",
       "    <tr>\n",
       "      <th>4</th>\n",
       "      <td>905.73</td>\n",
       "      <td>909.73</td>\n",
       "      <td>910.00</td>\n",
       "      <td>896.81</td>\n",
       "      <td>4991549952</td>\n",
       "      <td>2009</td>\n",
       "      <td>1</td>\n",
       "      <td>8</td>\n",
       "      <td>3</td>\n",
       "      <td>1</td>\n",
       "    </tr>\n",
       "  </tbody>\n",
       "</table>\n",
       "</div>"
      ],
      "text/plain": [
       "   Open Price  Close Price  High Price  Low Price      Volume  year  month  \\\n",
       "0      902.99       931.80      934.73     899.35  4048270080  2009      1   \n",
       "1      929.17       927.45      936.63     919.53  5413910016  2009      1   \n",
       "2      931.17       934.70      943.85     927.28  5392620032  2009      1   \n",
       "3      927.45       906.65      927.45     902.37  4704940032  2009      1   \n",
       "4      905.73       909.73      910.00     896.81  4991549952  2009      1   \n",
       "\n",
       "   date  day  Rise  \n",
       "0     2    4     0  \n",
       "1     5    0     0  \n",
       "2     6    1     1  \n",
       "3     7    2     0  \n",
       "4     8    3     1  "
      ]
     },
     "execution_count": 3,
     "metadata": {},
     "output_type": "execute_result"
    }
   ],
   "source": [
    "def build_data(df):\n",
    "    # Not used: Converting 'Date' column into 'year', 'month', 'date', 'day' to gain more information.\n",
    "    df['Date'] = pd.to_datetime(df['Date'])\n",
    "    df['year'] = df['Date'].dt.year\n",
    "    df['month'] = df['Date'].dt.month\n",
    "    df['date'] = df['Date'].dt.day\n",
    "    df['day'] = df['Date'].dt.dayofweek\n",
    "    df = df.drop(['Date'], axis=1)\n",
    "    rise = [0]\n",
    "    \n",
    "    # Create a new column 'Rise' which indicates if the 'Close Price' is up or down than the day before.\n",
    "    for i, close in enumerate(df['Close Price'][1:]):\n",
    "        if df['Close Price'][i+1] >= df['Close Price'][i]:\n",
    "            rise.append(1)\n",
    "        else:\n",
    "            rise.append(0)\n",
    "    df['Rise'] = pd.DataFrame(rise)\n",
    "    return df\n",
    "train = build_data(train)\n",
    "test = build_data(test)\n",
    "train.head()"
   ]
  },
  {
   "cell_type": "markdown",
   "metadata": {},
   "source": [
    "Rise是要預測的label，所以單獨切出來。<br>"
   ]
  },
  {
   "cell_type": "code",
   "execution_count": 4,
   "metadata": {
    "_cell_guid": "79c7e3d0-c299-4dcb-8224-4455121ee9b0",
    "_uuid": "d629ff2d2480ee46fbb7e2d37f6b5fab8052498a"
   },
   "outputs": [],
   "source": [
    "# Create labels\n",
    "train_y = train['Rise'].values\n",
    "test_y = test['Rise'].values"
   ]
  },
  {
   "cell_type": "markdown",
   "metadata": {},
   "source": [
    "## Logistic Regression\n",
    "利用前PASTDAY天的'Rise'作為特徵，來預測當天收盤價的漲跌。"
   ]
  },
  {
   "cell_type": "code",
   "execution_count": 5,
   "metadata": {},
   "outputs": [],
   "source": [
    "PASTDAY = 5\n",
    "train_x = []\n",
    "test_x = []\n",
    "train_x_mean = [] # mean of past N days\n",
    "test_x_mean = []\n",
    "def past(data, out, out_mean):\n",
    "    for i in range(data.shape[0] - PASTDAY):\n",
    "        val = np.asarray(data.loc[i:i+PASTDAY-1]['Rise'])\n",
    "        out.append(val)\n",
    "        out_mean.append([np.mean(val)])\n",
    "\n",
    "past(train, train_x, train_x_mean)\n",
    "past(test, test_x, test_x_mean)\n",
    "train_x = np.asarray(train_x)\n",
    "test_x = np.asarray(test_x)\n",
    "train_y = train_y[PASTDAY:]\n",
    "test_y = test_y[PASTDAY:]"
   ]
  },
  {
   "cell_type": "code",
   "execution_count": 6,
   "metadata": {},
   "outputs": [
    {
     "name": "stdout",
     "output_type": "stream",
     "text": [
      "(2259, 5)\n",
      "(2259,)\n",
      "(266, 5)\n",
      "(266,)\n"
     ]
    }
   ],
   "source": [
    "print(train_x.shape)\n",
    "print(train_y.shape)\n",
    "print(test_x.shape)\n",
    "print(test_y.shape)"
   ]
  },
  {
   "cell_type": "code",
   "execution_count": 7,
   "metadata": {},
   "outputs": [
    {
     "data": {
      "text/plain": [
       "'regr = linear_model.LinearRegression()\\nregr.fit(x_train, train_y)\\ny_pred = regr.predict(x_test)\\n\\nrise = [0]\\nfor past, today in zip(test_x[\\'Close Price\\'][:-1], y_pred[1:]):\\n    if today - past >= 0:\\n        rise.append(1)\\n    else:\\n        rise.append(0)\\nrise = np.asarray(rise)\\nplt.scatter(range(len(rise)), rise, label=\\'Predict\\')\\nplt.grid()\\nplt.legend()\\nplt.show()\\nacc_rate = accuracy_score(test_y, rise) * 100\\nprint(\"Accuracy = %.2f %%\" % acc_rate)'"
      ]
     },
     "execution_count": 7,
     "metadata": {},
     "output_type": "execute_result"
    }
   ],
   "source": [
    "# Not used: use linear regression model to predict the close price directly\n",
    "\"\"\"regr = linear_model.LinearRegression()\n",
    "regr.fit(x_train, train_y)\n",
    "y_pred = regr.predict(x_test)\n",
    "\n",
    "rise = [0]\n",
    "for past, today in zip(test_x['Close Price'][:-1], y_pred[1:]):\n",
    "    if today - past >= 0:\n",
    "        rise.append(1)\n",
    "    else:\n",
    "        rise.append(0)\n",
    "rise = np.asarray(rise)\n",
    "plt.scatter(range(len(rise)), rise, label='Predict')\n",
    "plt.grid()\n",
    "plt.legend()\n",
    "plt.show()\n",
    "acc_rate = accuracy_score(test_y, rise) * 100\n",
    "print(\"Accuracy = %.2f %%\" % acc_rate)\"\"\""
   ]
  },
  {
   "cell_type": "code",
   "execution_count": 8,
   "metadata": {
    "scrolled": true
   },
   "outputs": [
    {
     "data": {
      "image/png": "[encoded data removed]",
      "text/plain": [
       "<Figure size 432x288 with 1 Axes>"
      ]
     },
     "metadata": {
      "needs_background": "light"
     },
     "output_type": "display_data"
    },
    {
     "name": "stdout",
     "output_type": "stream",
     "text": [
      "Accuracy = 52.63 %\n"
     ]
    }
   ],
   "source": [
    "clf = linear_model.LogisticRegression(solver='lbfgs')\n",
    "clf.fit(train_x, train_y)\n",
    "pred_y_regr = clf.predict(test_x)\n",
    "plt.scatter(range(len(pred_y_regr)), pred_y_regr, label='Predict')\n",
    "plt.grid()\n",
    "plt.legend()\n",
    "plt.show()\n",
    "acc_rate = accuracy_score(test_y, pred_y_regr) * 100\n",
    "print(\"Accuracy = %.2f %%\" % acc_rate)"
   ]
  },
  {
   "cell_type": "markdown",
   "metadata": {},
   "source": [
    "## SVM"
   ]
  },
  {
   "cell_type": "code",
   "execution_count": 9,
   "metadata": {},
   "outputs": [],
   "source": [
    "from sklearn.svm import SVC"
   ]
  },
  {
   "cell_type": "markdown",
   "metadata": {},
   "source": [
    "把資料做標準化，可以加快訓練速度"
   ]
  },
  {
   "cell_type": "code",
   "execution_count": 10,
   "metadata": {},
   "outputs": [
    {
     "name": "stderr",
     "output_type": "stream",
     "text": [
      "/home/shihyu/.local/lib/python3.6/site-packages/sklearn/utils/validation.py:595: DataConversionWarning: Data with input dtype int64 was converted to float64 by StandardScaler.\n",
      "  warnings.warn(msg, DataConversionWarning)\n",
      "/home/shihyu/.local/lib/python3.6/site-packages/sklearn/utils/validation.py:595: DataConversionWarning: Data with input dtype int64 was converted to float64 by StandardScaler.\n",
      "  warnings.warn(msg, DataConversionWarning)\n",
      "/home/shihyu/.local/lib/python3.6/site-packages/sklearn/utils/validation.py:595: DataConversionWarning: Data with input dtype int64 was converted to float64 by StandardScaler.\n",
      "  warnings.warn(msg, DataConversionWarning)\n"
     ]
    }
   ],
   "source": [
    "from sklearn.preprocessing import StandardScaler\n",
    "\n",
    "scaler = StandardScaler()\n",
    "scaler.fit(train_x)\n",
    "\n",
    "train_x_std = scaler.transform(train_x)\n",
    "test_x_std = scaler.transform(test_x)"
   ]
  },
  {
   "cell_type": "code",
   "execution_count": 11,
   "metadata": {},
   "outputs": [],
   "source": [
    "penalty = 0.05"
   ]
  },
  {
   "cell_type": "code",
   "execution_count": 12,
   "metadata": {},
   "outputs": [
    {
     "data": {
      "text/plain": [
       "SVC(C=0.05, cache_size=200, class_weight=None, coef0=0.0,\n",
       "  decision_function_shape='ovr', degree=3, gamma='auto_deprecated',\n",
       "  kernel='linear', max_iter=-1, probability=True, random_state=None,\n",
       "  shrinking=True, tol=0.001, verbose=False)"
      ]
     },
     "execution_count": 12,
     "metadata": {},
     "output_type": "execute_result"
    }
   ],
   "source": [
    "svm = SVC(C=penalty, kernel=\"linear\", probability=True)\n",
    "svm.fit(train_x_std, train_y)"
   ]
  },
  {
   "cell_type": "code",
   "execution_count": 13,
   "metadata": {},
   "outputs": [
    {
     "data": {
      "image/png": "[encoded data removed]",
      "text/plain": [
       "<Figure size 432x288 with 1 Axes>"
      ]
     },
     "metadata": {
      "needs_background": "light"
     },
     "output_type": "display_data"
    },
    {
     "name": "stdout",
     "output_type": "stream",
     "text": [
      "Penalty = 0.05, Accuracy = 52.63 %\n"
     ]
    }
   ],
   "source": [
    "pred_y_svm = svm.predict(test_x)\n",
    "plt.scatter(range(len(pred_y_svm)), pred_y_svm, label='Predict')\n",
    "plt.grid()\n",
    "plt.legend()\n",
    "plt.show()\n",
    "acc_rate = accuracy_score(test_y, svm.predict(test_x_std)) * 100\n",
    "print(\"Penalty = %.2f, Accuracy = %.2f %%\" % (penalty, acc_rate))"
   ]
  },
  {
   "cell_type": "markdown",
   "metadata": {},
   "source": [
    "## Neural Network"
   ]
  },
  {
   "cell_type": "code",
   "execution_count": 14,
   "metadata": {},
   "outputs": [
    {
     "name": "stderr",
     "output_type": "stream",
     "text": [
      "Using TensorFlow backend.\n"
     ]
    }
   ],
   "source": [
    "from keras.utils import np_utils\n",
    "from keras.models import Sequential\n",
    "from keras.layers import Dense\n",
    "from keras import layers"
   ]
  },
  {
   "cell_type": "markdown",
   "metadata": {},
   "source": [
    "把 label 轉成 onehot-encoding， NN 的輸出層有兩個 output ，一個代表上漲一個代表下跌。"
   ]
  },
  {
   "cell_type": "code",
   "execution_count": 15,
   "metadata": {},
   "outputs": [],
   "source": [
    "train_y_onehot = np_utils.to_categorical(train_y)\n",
    "test_y_onehot = np_utils.to_categorical(test_y)"
   ]
  },
  {
   "cell_type": "code",
   "execution_count": 16,
   "metadata": {
    "scrolled": true
   },
   "outputs": [
    {
     "name": "stdout",
     "output_type": "stream",
     "text": [
      "WARNING:tensorflow:From /home/shihyu/.local/lib/python3.6/site-packages/tensorflow/python/framework/op_def_library.py:263: colocate_with (from tensorflow.python.framework.ops) is deprecated and will be removed in a future version.\n",
      "Instructions for updating:\n",
      "Colocations handled automatically by placer.\n",
      "_________________________________________________________________\n",
      "Layer (type)                 Output Shape              Param #   \n",
      "=================================================================\n",
      "dense_1 (Dense)              (None, 10)                60        \n",
      "_________________________________________________________________\n",
      "dense_2 (Dense)              (None, 10)                110       \n",
      "_________________________________________________________________\n",
      "dense_3 (Dense)              (None, 10)                110       \n",
      "_________________________________________________________________\n",
      "dense_4 (Dense)              (None, 10)                110       \n",
      "_________________________________________________________________\n",
      "dense_5 (Dense)              (None, 10)                110       \n",
      "_________________________________________________________________\n",
      "dense_6 (Dense)              (None, 10)                110       \n",
      "_________________________________________________________________\n",
      "dense_7 (Dense)              (None, 2)                 22        \n",
      "=================================================================\n",
      "Total params: 632\n",
      "Trainable params: 632\n",
      "Non-trainable params: 0\n",
      "_________________________________________________________________\n"
     ]
    }
   ],
   "source": [
    "model = Sequential()\n",
    "model.add(Dense(units=10, input_dim=PASTDAY))\n",
    "for i in range(5):\n",
    "    model.add(Dense(units=10, activation='relu'))\n",
    "model.add(Dense(units=2, activation='softmax'))\n",
    "model.compile(loss='categorical_crossentropy', optimizer='adam', metrics=['accuracy'])\n",
    "model.summary()"
   ]
  },
  {
   "cell_type": "code",
   "execution_count": 17,
   "metadata": {
    "scrolled": true
   },
   "outputs": [
    {
     "name": "stdout",
     "output_type": "stream",
     "text": [
      "WARNING:tensorflow:From /home/shihyu/.local/lib/python3.6/site-packages/tensorflow/python/ops/math_ops.py:3066: to_int32 (from tensorflow.python.ops.math_ops) is deprecated and will be removed in a future version.\n",
      "Instructions for updating:\n",
      "Use tf.cast instead.\n",
      "Train on 1807 samples, validate on 452 samples\n",
      "Epoch 1/10\n",
      "1807/1807 [==============================] - 3s 2ms/step - loss: 0.6916 - acc: 0.5445 - val_loss: 0.6885 - val_acc: 0.5531\n",
      "Epoch 2/10\n",
      "1807/1807 [==============================] - 2s 1ms/step - loss: 0.6882 - acc: 0.5462 - val_loss: 0.6915 - val_acc: 0.5575\n",
      "Epoch 3/10\n",
      "1807/1807 [==============================] - 2s 1ms/step - loss: 0.6900 - acc: 0.5462 - val_loss: 0.6891 - val_acc: 0.5531\n",
      "Epoch 4/10\n",
      "1807/1807 [==============================] - 2s 1ms/step - loss: 0.6895 - acc: 0.5462 - val_loss: 0.6887 - val_acc: 0.5531\n",
      "Epoch 5/10\n",
      "1807/1807 [==============================] - 2s 1ms/step - loss: 0.6879 - acc: 0.5429 - val_loss: 0.6869 - val_acc: 0.5531\n",
      "Epoch 6/10\n",
      "1807/1807 [==============================] - 2s 1ms/step - loss: 0.6879 - acc: 0.5462 - val_loss: 0.6854 - val_acc: 0.5531\n",
      "Epoch 7/10\n",
      "1807/1807 [==============================] - 2s 1ms/step - loss: 0.6887 - acc: 0.5462 - val_loss: 0.6845 - val_acc: 0.5531\n",
      "Epoch 8/10\n",
      "1807/1807 [==============================] - 2s 1ms/step - loss: 0.6883 - acc: 0.5490 - val_loss: 0.6863 - val_acc: 0.5531\n",
      "Epoch 9/10\n",
      "1807/1807 [==============================] - 2s 1ms/step - loss: 0.6876 - acc: 0.5379 - val_loss: 0.6880 - val_acc: 0.5531\n",
      "Epoch 10/10\n",
      "1807/1807 [==============================] - 2s 1ms/step - loss: 0.6880 - acc: 0.5468 - val_loss: 0.6865 - val_acc: 0.5531\n"
     ]
    },
    {
     "data": {
      "text/plain": [
       "<keras.callbacks.History at 0x7efba654e748>"
      ]
     },
     "execution_count": 17,
     "metadata": {},
     "output_type": "execute_result"
    }
   ],
   "source": [
    "model.fit(train_x, train_y_onehot, epochs=10, batch_size=5, validation_split=0.2)"
   ]
  },
  {
   "cell_type": "code",
   "execution_count": 18,
   "metadata": {},
   "outputs": [
    {
     "data": {
      "image/png": "[encoded data removed]",
      "text/plain": [
       "<Figure size 432x288 with 1 Axes>"
      ]
     },
     "metadata": {
      "needs_background": "light"
     },
     "output_type": "display_data"
    },
    {
     "name": "stdout",
     "output_type": "stream",
     "text": [
      "Penalty = 0.05, Accuracy = 52.63 %\n"
     ]
    }
   ],
   "source": [
    "pred_y_nn = model.predict_classes(test_x)\n",
    "plt.scatter(range(len(pred_y_nn)), pred_y_nn, label='Predict')\n",
    "plt.grid()\n",
    "plt.legend()\n",
    "plt.show()\n",
    "acc_rate = accuracy_score(test_y, pred_y_nn) * 100\n",
    "print(\"Penalty = %.2f, Accuracy = %.2f %%\" % (penalty, acc_rate))"
   ]
  },
  {
   "cell_type": "markdown",
   "metadata": {},
   "source": [
    "## Neural Network(LSTM)"
   ]
  },
  {
   "cell_type": "markdown",
   "metadata": {},
   "source": [
    "LSTM的輸入和輸出都是三維矩陣\n",
    "- 第一維代表總共有幾筆資料\n",
    "- 第二維代表有幾個time steps\n",
    "- 第三維代表每個time steps有幾個attributes"
   ]
  },
  {
   "cell_type": "code",
   "execution_count": 19,
   "metadata": {
    "scrolled": true
   },
   "outputs": [
    {
     "name": "stdout",
     "output_type": "stream",
     "text": [
      "(2259, 5, 2)\n",
      "(2259, 1, 2)\n"
     ]
    }
   ],
   "source": [
    "train_x_onehot = np_utils.to_categorical(train_x)\n",
    "test_x_onehot = np_utils.to_categorical(test_x)\n",
    "train_y_onehot = train_y_onehot.reshape(2264-PASTDAY, 1, 2)\n",
    "print(train_x_onehot.shape)\n",
    "print(train_y_onehot.shape)"
   ]
  },
  {
   "cell_type": "code",
   "execution_count": 20,
   "metadata": {},
   "outputs": [],
   "source": [
    "def buildModel(shape):\n",
    "    model = Sequential()\n",
    "    model.add(layers.LSTM(10, input_shape=(shape[1], shape[2])))\n",
    "    model.add(layers.RepeatVector(1))\n",
    "    model.add(layers.LSTM(10, return_sequences=True))\n",
    "    model.add(layers.LSTM(10, return_sequences=True))\n",
    "    model.add(layers.TimeDistributed(layers.Dense(2, activation='softmax')))\n",
    "    model.compile(loss=\"categorical_crossentropy\", optimizer=\"adam\", metrics=['accuracy'])\n",
    "    model.summary()\n",
    "    return model"
   ]
  },
  {
   "cell_type": "code",
   "execution_count": 21,
   "metadata": {},
   "outputs": [
    {
     "name": "stdout",
     "output_type": "stream",
     "text": [
      "_________________________________________________________________\n",
      "Layer (type)                 Output Shape              Param #   \n",
      "=================================================================\n",
      "lstm_1 (LSTM)                (None, 10)                520       \n",
      "_________________________________________________________________\n",
      "repeat_vector_1 (RepeatVecto (None, 1, 10)             0         \n",
      "_________________________________________________________________\n",
      "lstm_2 (LSTM)                (None, 1, 10)             840       \n",
      "_________________________________________________________________\n",
      "lstm_3 (LSTM)                (None, 1, 10)             840       \n",
      "_________________________________________________________________\n",
      "time_distributed_1 (TimeDist (None, 1, 2)              22        \n",
      "=================================================================\n",
      "Total params: 2,222\n",
      "Trainable params: 2,222\n",
      "Non-trainable params: 0\n",
      "_________________________________________________________________\n"
     ]
    }
   ],
   "source": [
    "model = buildModel(train_x_onehot.shape)"
   ]
  },
  {
   "cell_type": "code",
   "execution_count": 22,
   "metadata": {},
   "outputs": [
    {
     "name": "stdout",
     "output_type": "stream",
     "text": [
      "Epoch 1/10\n",
      "2259/2259 [==============================] - 6s 3ms/step - loss: 0.6921 - acc: 0.5476\n",
      "Epoch 2/10\n",
      "2259/2259 [==============================] - 1s 230us/step - loss: 0.6900 - acc: 0.5476\n",
      "Epoch 3/10\n",
      "2259/2259 [==============================] - 0s 211us/step - loss: 0.6893 - acc: 0.5476\n",
      "Epoch 4/10\n",
      "2259/2259 [==============================] - 0s 221us/step - loss: 0.6886 - acc: 0.5476\n",
      "Epoch 5/10\n",
      "2259/2259 [==============================] - 0s 219us/step - loss: 0.6885 - acc: 0.5476\n",
      "Epoch 6/10\n",
      "2259/2259 [==============================] - 0s 212us/step - loss: 0.6885 - acc: 0.5476\n",
      "Epoch 7/10\n",
      "2259/2259 [==============================] - 0s 210us/step - loss: 0.6884 - acc: 0.5476\n",
      "Epoch 8/10\n",
      "2259/2259 [==============================] - 0s 219us/step - loss: 0.6884 - acc: 0.5476\n",
      "Epoch 9/10\n",
      "2259/2259 [==============================] - 0s 221us/step - loss: 0.6884 - acc: 0.5476\n",
      "Epoch 10/10\n",
      "2259/2259 [==============================] - 1s 224us/step - loss: 0.6884 - acc: 0.5476\n"
     ]
    },
    {
     "data": {
      "text/plain": [
       "<keras.callbacks.History at 0x7efb9c478828>"
      ]
     },
     "execution_count": 22,
     "metadata": {},
     "output_type": "execute_result"
    }
   ],
   "source": [
    "model.fit(train_x_onehot, train_y_onehot, batch_size=128, epochs=10)"
   ]
  },
  {
   "cell_type": "code",
   "execution_count": 23,
   "metadata": {
    "scrolled": true
   },
   "outputs": [
    {
     "data": {
      "image/png": "[encoded data removed]",
      "text/plain": [
       "<Figure size 432x288 with 1 Axes>"
      ]
     },
     "metadata": {
      "needs_background": "light"
     },
     "output_type": "display_data"
    },
    {
     "name": "stdout",
     "output_type": "stream",
     "text": [
      "Penalty = 0.05, Accuracy = 52.63 %\n"
     ]
    }
   ],
   "source": [
    "pred_y_lstm = model.predict_classes(test_x_onehot)\n",
    "plt.scatter(range(len(pred_y_lstm)), pred_y_lstm, label='Predict')\n",
    "plt.grid()\n",
    "plt.legend()\n",
    "plt.show()\n",
    "acc_rate = accuracy_score(test_y, pred_y_lstm) * 100\n",
    "print(\"Penalty = %.2f, Accuracy = %.2f %%\" % (penalty, acc_rate))"
   ]
  },
  {
   "cell_type": "markdown",
   "metadata": {},
   "source": [
    "# Conclusion\n",
    "\n",
    "從上面幾個實驗來看，不管是 Logistic Regression、SVM、Neural Network 的 Dense 或 LSTM ，我做出來的結果幾乎全部都是預測1（上漲）。還找不出較好的方式來改善他們，有猜測或許是我使用的 attribute 只有'Rise'一個，有可能導致模型得到的資料太單薄，因此學不到東西。會再試試加入其他的 attributes 看看模型表現會不會好一點。\n",
    "<br>另外，我也有嘗試使用 Linear Regression 來直接預測 Close Price ，再轉換成當天漲跌。不過準確率也是在大概五成左右。"
   ]
  }
 ],
 "metadata": {
  "kernelspec": {
   "display_name": "Python 3",
   "language": "python",
   "name": "python3"
  },
  "language_info": {
   "codemirror_mode": {
    "name": "ipython",
    "version": 3
   },
   "file_extension": ".py",
   "mimetype": "text/x-python",
   "name": "python",
   "nbconvert_exporter": "python",
   "pygments_lexer": "ipython3",
   "version": "3.6.7"
  }
 },
 "nbformat": 4,
 "nbformat_minor": 1
}
