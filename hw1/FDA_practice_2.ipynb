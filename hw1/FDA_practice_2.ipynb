{
 "cells": [
  {
   "cell_type": "markdown",
   "metadata": {},
   "source": [
    "# FDA_pratice ( Part 2 )\n",
    "> Contributed by `shihyuuuuuuu`<br>"
   ]
  },
  {
   "cell_type": "markdown",
   "metadata": {},
   "source": [
    "## Description\n",
    "[HW1 requirements](https://github.com/silenceliang/FDA_practice/blob/master/README.md#3-plot-pandas-series-dataframe-time-date)\n",
    "<br>This notebook is a practice for course \"Fundamental of Data Analytics\".<br>\n",
    "For part 2, I do some statistical analysis on a Kaggle dataset '[Google Play Store Apps](https://www.kaggle.com/lava18/google-play-store-apps)'.<br>"
   ]
  },
  {
   "cell_type": "markdown",
   "metadata": {},
   "source": [
    "## Importing libraries and dataset"
   ]
  },
  {
   "cell_type": "code",
   "execution_count": 1,
   "metadata": {},
   "outputs": [],
   "source": [
    "import pandas as pd\n",
    "import numpy as np\n",
    "import math\n",
    "import matplotlib.pyplot as plt\n",
    "data = pd.read_csv('data/google-play-store-apps/googleplaystore.csv')\n",
    "\n",
    "# Drop strange data\n",
    "data = data.drop(index=10472)\n",
    "data = data.reset_index(drop=True)"
   ]
  },
  {
   "cell_type": "markdown",
   "metadata": {},
   "source": [
    "## Dataset columns description\n",
    "\n",
    "- **App**: Application name\n",
    "- **Category**: Category the app belongs to\n",
    "- **Rating**: Overall user rating of the app (as when scraped)\n",
    "- **Reviews**: Number of user reviews for the app (as when scraped)\n",
    "- **Size**: Size of the app (as when scraped)\n",
    "- **Installs**: Number of user downloads/installs for the app (as when scraped)\n",
    "- **Type**: Paid or Free\n",
    "- **Price**: Price of the app (as when scraped)\n",
    "- **Content Rating**: Age group the app is targeted at - Children / Mature 21+ / Adult\n",
    "- **Genres**: An app can belong to multiple genres (apart from its main category). For eg, a musical family game will belong to Music, Game, Family genres.\n",
    "- **Last Updated**: Date when the app was last updated on Play Store (as when scraped)\n",
    "- **Current Ver**: Current version of the app available on Play Store (as when scraped)\n",
    "- **Android Ver**: Min required Android version (as when scraped)"
   ]
  },
  {
   "cell_type": "markdown",
   "metadata": {},
   "source": [
    "## A glimpse of the dataset"
   ]
  },
  {
   "cell_type": "markdown",
   "metadata": {},
   "source": [
    "Each app (row) has values for category, rating, reviews, size, and more."
   ]
  },
  {
   "cell_type": "code",
   "execution_count": 2,
   "metadata": {
    "scrolled": false
   },
   "outputs": [
    {
     "data": {
      "text/html": [
       "<div>\n",
       "<style scoped>\n",
       "    .dataframe tbody tr th:only-of-type {\n",
       "        vertical-align: middle;\n",
       "    }\n",
       "\n",
       "    .dataframe tbody tr th {\n",
       "        vertical-align: top;\n",
       "    }\n",
       "\n",
       "    .dataframe thead th {\n",
       "        text-align: right;\n",
       "    }\n",
       "</style>\n",
       "<table border=\"1\" class=\"dataframe\">\n",
       "  <thead>\n",
       "    <tr style=\"text-align: right;\">\n",
       "      <th></th>\n",
       "      <th>App</th>\n",
       "      <th>Category</th>\n",
       "      <th>Rating</th>\n",
       "      <th>Reviews</th>\n",
       "      <th>Size</th>\n",
       "      <th>Installs</th>\n",
       "      <th>Type</th>\n",
       "      <th>Price</th>\n",
       "      <th>Content Rating</th>\n",
       "      <th>Genres</th>\n",
       "      <th>Last Updated</th>\n",
       "      <th>Current Ver</th>\n",
       "      <th>Android Ver</th>\n",
       "    </tr>\n",
       "  </thead>\n",
       "  <tbody>\n",
       "    <tr>\n",
       "      <th>0</th>\n",
       "      <td>Photo Editor &amp; Candy Camera &amp; Grid &amp; ScrapBook</td>\n",
       "      <td>ART_AND_DESIGN</td>\n",
       "      <td>4.1</td>\n",
       "      <td>159</td>\n",
       "      <td>19M</td>\n",
       "      <td>10,000+</td>\n",
       "      <td>Free</td>\n",
       "      <td>0</td>\n",
       "      <td>Everyone</td>\n",
       "      <td>Art &amp; Design</td>\n",
       "      <td>January 7, 2018</td>\n",
       "      <td>1.0.0</td>\n",
       "      <td>4.0.3 and up</td>\n",
       "    </tr>\n",
       "    <tr>\n",
       "      <th>1</th>\n",
       "      <td>Coloring book moana</td>\n",
       "      <td>ART_AND_DESIGN</td>\n",
       "      <td>3.9</td>\n",
       "      <td>967</td>\n",
       "      <td>14M</td>\n",
       "      <td>500,000+</td>\n",
       "      <td>Free</td>\n",
       "      <td>0</td>\n",
       "      <td>Everyone</td>\n",
       "      <td>Art &amp; Design;Pretend Play</td>\n",
       "      <td>January 15, 2018</td>\n",
       "      <td>2.0.0</td>\n",
       "      <td>4.0.3 and up</td>\n",
       "    </tr>\n",
       "    <tr>\n",
       "      <th>2</th>\n",
       "      <td>U Launcher Lite – FREE Live Cool Themes, Hide ...</td>\n",
       "      <td>ART_AND_DESIGN</td>\n",
       "      <td>4.7</td>\n",
       "      <td>87510</td>\n",
       "      <td>8.7M</td>\n",
       "      <td>5,000,000+</td>\n",
       "      <td>Free</td>\n",
       "      <td>0</td>\n",
       "      <td>Everyone</td>\n",
       "      <td>Art &amp; Design</td>\n",
       "      <td>August 1, 2018</td>\n",
       "      <td>1.2.4</td>\n",
       "      <td>4.0.3 and up</td>\n",
       "    </tr>\n",
       "    <tr>\n",
       "      <th>3</th>\n",
       "      <td>Sketch - Draw &amp; Paint</td>\n",
       "      <td>ART_AND_DESIGN</td>\n",
       "      <td>4.5</td>\n",
       "      <td>215644</td>\n",
       "      <td>25M</td>\n",
       "      <td>50,000,000+</td>\n",
       "      <td>Free</td>\n",
       "      <td>0</td>\n",
       "      <td>Teen</td>\n",
       "      <td>Art &amp; Design</td>\n",
       "      <td>June 8, 2018</td>\n",
       "      <td>Varies with device</td>\n",
       "      <td>4.2 and up</td>\n",
       "    </tr>\n",
       "    <tr>\n",
       "      <th>4</th>\n",
       "      <td>Pixel Draw - Number Art Coloring Book</td>\n",
       "      <td>ART_AND_DESIGN</td>\n",
       "      <td>4.3</td>\n",
       "      <td>967</td>\n",
       "      <td>2.8M</td>\n",
       "      <td>100,000+</td>\n",
       "      <td>Free</td>\n",
       "      <td>0</td>\n",
       "      <td>Everyone</td>\n",
       "      <td>Art &amp; Design;Creativity</td>\n",
       "      <td>June 20, 2018</td>\n",
       "      <td>1.1</td>\n",
       "      <td>4.4 and up</td>\n",
       "    </tr>\n",
       "  </tbody>\n",
       "</table>\n",
       "</div>"
      ],
      "text/plain": [
       "                                                 App        Category  Rating  \\\n",
       "0     Photo Editor & Candy Camera & Grid & ScrapBook  ART_AND_DESIGN     4.1   \n",
       "1                                Coloring book moana  ART_AND_DESIGN     3.9   \n",
       "2  U Launcher Lite – FREE Live Cool Themes, Hide ...  ART_AND_DESIGN     4.7   \n",
       "3                              Sketch - Draw & Paint  ART_AND_DESIGN     4.5   \n",
       "4              Pixel Draw - Number Art Coloring Book  ART_AND_DESIGN     4.3   \n",
       "\n",
       "  Reviews  Size     Installs  Type Price Content Rating  \\\n",
       "0     159   19M      10,000+  Free     0       Everyone   \n",
       "1     967   14M     500,000+  Free     0       Everyone   \n",
       "2   87510  8.7M   5,000,000+  Free     0       Everyone   \n",
       "3  215644   25M  50,000,000+  Free     0           Teen   \n",
       "4     967  2.8M     100,000+  Free     0       Everyone   \n",
       "\n",
       "                      Genres      Last Updated         Current Ver  \\\n",
       "0               Art & Design   January 7, 2018               1.0.0   \n",
       "1  Art & Design;Pretend Play  January 15, 2018               2.0.0   \n",
       "2               Art & Design    August 1, 2018               1.2.4   \n",
       "3               Art & Design      June 8, 2018  Varies with device   \n",
       "4    Art & Design;Creativity     June 20, 2018                 1.1   \n",
       "\n",
       "    Android Ver  \n",
       "0  4.0.3 and up  \n",
       "1  4.0.3 and up  \n",
       "2  4.0.3 and up  \n",
       "3    4.2 and up  \n",
       "4    4.4 and up  "
      ]
     },
     "execution_count": 2,
     "metadata": {},
     "output_type": "execute_result"
    }
   ],
   "source": [
    "data.head()"
   ]
  },
  {
   "cell_type": "code",
   "execution_count": 3,
   "metadata": {},
   "outputs": [
    {
     "data": {
      "text/plain": [
       "(10840, 13)"
      ]
     },
     "execution_count": 3,
     "metadata": {},
     "output_type": "execute_result"
    }
   ],
   "source": [
    "data.shape"
   ]
  },
  {
   "cell_type": "markdown",
   "metadata": {},
   "source": [
    "## Statistical Analysis"
   ]
  },
  {
   "cell_type": "markdown",
   "metadata": {},
   "source": [
    "### Overview"
   ]
  },
  {
   "cell_type": "code",
   "execution_count": 4,
   "metadata": {
    "scrolled": true
   },
   "outputs": [
    {
     "name": "stdout",
     "output_type": "stream",
     "text": [
      "<class 'pandas.core.frame.DataFrame'>\n",
      "RangeIndex: 10840 entries, 0 to 10839\n",
      "Data columns (total 13 columns):\n",
      "App               10840 non-null object\n",
      "Category          10840 non-null object\n",
      "Rating            9366 non-null float64\n",
      "Reviews           10840 non-null object\n",
      "Size              10840 non-null object\n",
      "Installs          10840 non-null object\n",
      "Type              10839 non-null object\n",
      "Price             10840 non-null object\n",
      "Content Rating    10840 non-null object\n",
      "Genres            10840 non-null object\n",
      "Last Updated      10840 non-null object\n",
      "Current Ver       10832 non-null object\n",
      "Android Ver       10838 non-null object\n",
      "dtypes: float64(1), object(12)\n",
      "memory usage: 1.1+ MB\n"
     ]
    }
   ],
   "source": [
    "data.info()"
   ]
  },
  {
   "cell_type": "markdown",
   "metadata": {},
   "source": [
    "### Category\n",
    "\n",
    "Find out the categories with the most apps."
   ]
  },
  {
   "cell_type": "code",
   "execution_count": 5,
   "metadata": {},
   "outputs": [
    {
     "data": {
      "image/png": "[encoded data removed]",
      "text/plain": [
       "<Figure size 432x288 with 1 Axes>"
      ]
     },
     "metadata": {
      "needs_background": "light"
     },
     "output_type": "display_data"
    }
   ],
   "source": [
    "# Ten categories with the most apps\n",
    "category_count = data['Category'].value_counts()[:10]\n",
    "plt.xticks(rotation='vertical')\n",
    "plt.bar(category_count.index, category_count)\n",
    "plt.ylabel('Number of applications')\n",
    "plt.title('Top 10 categories')\n",
    "plt.show()"
   ]
  },
  {
   "cell_type": "markdown",
   "metadata": {},
   "source": [
    "### Rating\n",
    "\n",
    "If the rate is 'NAN', I encoded it as '-1'."
   ]
  },
  {
   "cell_type": "code",
   "execution_count": 6,
   "metadata": {},
   "outputs": [
    {
     "data": {
      "image/png": "[encoded data removed]",
      "text/plain": [
       "<Figure size 432x288 with 1 Axes>"
      ]
     },
     "metadata": {
      "needs_background": "light"
     },
     "output_type": "display_data"
    }
   ],
   "source": [
    "# Histogram of the rates\n",
    "rates = []\n",
    "for rate, i in zip(data['Rating'], range(data['Rating'].count())):\n",
    "    if math.isnan(rate):\n",
    "        rates.append(-1.0)\n",
    "    else:\n",
    "        rates.append(rate)\n",
    "plt.grid()\n",
    "plt.title('Distribution of Rating')\n",
    "plt.xlabel('Rating')\n",
    "plt.hist(rates, bins=25, color='green')\n",
    "plt.show()"
   ]
  },
  {
   "cell_type": "markdown",
   "metadata": {},
   "source": [
    "### Reviews\n",
    "When I listed the Apps with the most reviews, I found that there are many repeated Apps (with different Reviews)."
   ]
  },
  {
   "cell_type": "code",
   "execution_count": 7,
   "metadata": {},
   "outputs": [
    {
     "name": "stdout",
     "output_type": "stream",
     "text": [
      "78158306 \t Facebook\n",
      "78128208 \t Facebook\n",
      "69119316 \t WhatsApp Messenger\n",
      "69119316 \t WhatsApp Messenger\n",
      "69109672 \t WhatsApp Messenger\n",
      "66577446 \t Instagram\n",
      "66577313 \t Instagram\n",
      "66577313 \t Instagram\n",
      "66509917 \t Instagram\n",
      "56646578 \t Messenger – Text and Video Chat for Free\n"
     ]
    }
   ],
   "source": [
    "# Sort the data descendingly by 'Reviews'\n",
    "sorted_reviews = data['Reviews'].astype('int64').sort_values(ascending=False)\n",
    "for i in sorted_reviews.index[0:10]:\n",
    "    print(data.loc[i].Reviews, '\\t', data.loc[i].App)"
   ]
  },
  {
   "cell_type": "markdown",
   "metadata": {},
   "source": [
    "**Find the rows with repeated App name, and delete them from the data.**"
   ]
  },
  {
   "cell_type": "code",
   "execution_count": 8,
   "metadata": {},
   "outputs": [
    {
     "name": "stdout",
     "output_type": "stream",
     "text": [
      "Now data shape:  (9659, 13)\n"
     ]
    }
   ],
   "source": [
    "del_index = []\n",
    "for i in data.groupby(['App']).__iter__():\n",
    "    if i[1].shape[0] > 1:\n",
    "        for j in i[1].index[1:]:\n",
    "            del_index.append(j)\n",
    "            \n",
    "# Drop the repeated rows            \n",
    "for index in del_index:\n",
    "    data = data.drop(index=index)\n",
    "# Then reset the index\n",
    "data = data.reset_index(drop=True)\n",
    "\n",
    "print('Now data shape: ', data.shape)"
   ]
  },
  {
   "cell_type": "markdown",
   "metadata": {},
   "source": [
    "**Then print the apps with the most 'Reviews' again.**"
   ]
  },
  {
   "cell_type": "code",
   "execution_count": 9,
   "metadata": {
    "scrolled": false
   },
   "outputs": [
    {
     "name": "stdout",
     "output_type": "stream",
     "text": [
      "78158306 \t Facebook\n",
      "69119316 \t WhatsApp Messenger\n",
      "66577313 \t Instagram\n",
      "56642847 \t Messenger – Text and Video Chat for Free\n",
      "44891723 \t Clash of Clans\n",
      "42916526 \t Clean Master- Space Cleaner & Antivirus\n",
      "27722264 \t Subway Surfers\n",
      "25655305 \t YouTube\n",
      "24900999 \t Security Master - Antivirus, VPN, AppLock, Booster\n",
      "23133508 \t Clash Royale\n"
     ]
    }
   ],
   "source": [
    "data['Reviews'] = data['Reviews'].astype('int64')\n",
    "sorted_reviews = data['Reviews'].sort_values(ascending=False)\n",
    "top_reviews = []\n",
    "top_reviews.append([])\n",
    "top_reviews.append([])\n",
    "for i in sorted_reviews.index[0:10]:\n",
    "    print(data.loc[i].Reviews, '\\t',  data.loc[i].App)\n",
    "    top_reviews[0].append(data.loc[i].App)\n",
    "    top_reviews[1].append(int(data.loc[i].Reviews))\n"
   ]
  },
  {
   "cell_type": "code",
   "execution_count": 10,
   "metadata": {
    "scrolled": true
   },
   "outputs": [
    {
     "data": {
      "image/png": "[encoded data removed]",
      "text/plain": [
       "<Figure size 432x288 with 1 Axes>"
      ]
     },
     "metadata": {
      "needs_background": "light"
     },
     "output_type": "display_data"
    }
   ],
   "source": [
    "# Ten most reviews\n",
    "plt.bar(top_reviews[0], top_reviews[1])\n",
    "plt.ylabel('Reviews')\n",
    "plt.xticks(rotation='vertical')\n",
    "plt.title('Most-review Apps Top 10')\n",
    "plt.show()"
   ]
  },
  {
   "cell_type": "markdown",
   "metadata": {},
   "source": [
    "### Installs\n",
    "Because the type of the 'Installs' column is 'str', I need to covert it to 'int'.\n",
    "<br>\n",
    "Steps:\n",
    "1. Remove ',' and '+' in the strings\n",
    "2. Convert from string to integer"
   ]
  },
  {
   "cell_type": "code",
   "execution_count": 11,
   "metadata": {
    "scrolled": true
   },
   "outputs": [
    {
     "data": {
      "text/plain": [
       "0        10,000+\n",
       "1       500,000+\n",
       "2     5,000,000+\n",
       "3    50,000,000+\n",
       "4       100,000+\n",
       "Name: Installs, dtype: object"
      ]
     },
     "execution_count": 11,
     "metadata": {},
     "output_type": "execute_result"
    }
   ],
   "source": [
    "# Initial data format\n",
    "data['Installs'].head()"
   ]
  },
  {
   "cell_type": "code",
   "execution_count": 12,
   "metadata": {
    "scrolled": true
   },
   "outputs": [],
   "source": [
    "data['Installs'] =  data['Installs'].str.replace('+', '')\n",
    "data['Installs'] =  data['Installs'].str.replace(',', '')\n",
    "data['Installs'] =  data['Installs'].astype('int64')"
   ]
  },
  {
   "cell_type": "code",
   "execution_count": 13,
   "metadata": {
    "scrolled": true
   },
   "outputs": [
    {
     "name": "stdout",
     "output_type": "stream",
     "text": [
      "Installs\t Reviews\t App\n",
      "\n",
      "1000000000 \t 27722264 \t Subway Surfers\n",
      "1000000000 \t 8033493 \t Google\n",
      "1000000000 \t 7165362 \t Google Play Games\n",
      "1000000000 \t 78158306 \t Facebook\n",
      "1000000000 \t 66577313 \t Instagram\n",
      "1000000000 \t 10484169 \t Skype - free IM & video calls\n",
      "1000000000 \t 877635 \t Google News\n",
      "1000000000 \t 9235155 \t Maps - Navigate & Explore\n",
      "1000000000 \t 25655305 \t YouTube\n",
      "1000000000 \t 4604324 \t Gmail\n",
      "1000000000 \t 10858556 \t Google Photos\n",
      "1000000000 \t 3419249 \t Hangouts\n",
      "1000000000 \t 2129689 \t Google Street View\n",
      "1000000000 \t 906384 \t Google Play Movies & TV\n",
      "1000000000 \t 1433233 \t Google Play Books\n"
     ]
    }
   ],
   "source": [
    "sorted_installs = data['Installs'].sort_values(ascending=False)\n",
    "print('Installs\\t Reviews\\t App\\n')\n",
    "for i in sorted_installs.index[0:15]:\n",
    "    print(data.loc[i].Installs, '\\t', data.loc[i].Reviews, '\\t',  data.loc[i].App)"
   ]
  },
  {
   "cell_type": "markdown",
   "metadata": {},
   "source": [
    "### Last Updated"
   ]
  },
  {
   "cell_type": "code",
   "execution_count": 14,
   "metadata": {},
   "outputs": [
    {
     "data": {
      "image/png": "[encoded data removed]",
      "text/plain": [
       "<Figure size 432x288 with 1 Axes>"
      ]
     },
     "metadata": {
      "needs_background": "light"
     },
     "output_type": "display_data"
    }
   ],
   "source": [
    "from datetime import datetime\n",
    "import time\n",
    "\n",
    "dt_dates = []\n",
    "for date, i in zip(data['Last Updated'], range(data['Last Updated'].size)):\n",
    "    dt_dates.append(datetime.strptime(date, '%B %d, %Y'))\n",
    "\n",
    "month_group = []\n",
    "for date in dt_dates:\n",
    "    month_group.append(date.strftime('%Y'))\n",
    "months = pd.DataFrame(month_group)\n",
    "group = months.groupby(0)\n",
    "\n",
    "# Plot a bar chart. x_axis = 'Year', y_axis = 'review-count'\n",
    "plt.bar(group.size().index, group.size(), color='red')\n",
    "plt.title('Last Updated Year')\n",
    "plt.xticks(rotation='vertical')\n",
    "plt.show()"
   ]
  },
  {
   "cell_type": "markdown",
   "metadata": {},
   "source": [
    "## Comparison between attributes"
   ]
  },
  {
   "cell_type": "markdown",
   "metadata": {},
   "source": [
    "### Correlation coefficients between attributes (Reviews, Installs, Rating, Price)\n",
    "\n",
    "I found that there is some correlation between 'Reviews' and 'Installs'."
   ]
  },
  {
   "cell_type": "code",
   "execution_count": 15,
   "metadata": {
    "scrolled": true
   },
   "outputs": [
    {
     "data": {
      "text/plain": [
       "<matplotlib.axes._subplots.AxesSubplot at 0x7efbbaa344a8>"
      ]
     },
     "execution_count": 15,
     "metadata": {},
     "output_type": "execute_result"
    },
    {
     "data": {
      "image/png": "[encoded data removed]",
      "text/plain": [
       "<Figure size 432x288 with 2 Axes>"
      ]
     },
     "metadata": {
      "needs_background": "light"
     },
     "output_type": "display_data"
    }
   ],
   "source": [
    "import seaborn as sns\n",
    "\n",
    "data['Price'] =  data['Price'].str.replace('$', '')\n",
    "data['Price'] = data['Price'].astype('float64')\n",
    "data['Rating'].fillna(data['Rating'].mean(), inplace=True)\n",
    "correlation = np.corrcoef([data['Reviews'], data['Installs'], data['Rating'], data['Price']])\n",
    "#print(correlation)\n",
    "\n",
    "# Create new dataframe by the correlation matrix\n",
    "df = pd.DataFrame(correlation)\n",
    "df.columns = ['Reviews', 'Installs', 'Rating', 'Price']\n",
    "df.index = ['Reviews', 'Installs', 'Rating', 'Price']\n",
    "\n",
    "# Draw a heatmap of the dataframe\n",
    "sns.heatmap(df, annot=True)"
   ]
  },
  {
   "cell_type": "markdown",
   "metadata": {},
   "source": [
    "### Categories and Average Installs\n",
    "Computing the average installs of each categories, we can find out what kinds of apps are more popular."
   ]
  },
  {
   "cell_type": "code",
   "execution_count": 16,
   "metadata": {},
   "outputs": [
    {
     "data": {
      "image/png": "[encoded data removed]",
      "text/plain": [
       "<Figure size 432x288 with 1 Axes>"
      ]
     },
     "metadata": {
      "needs_background": "light"
     },
     "output_type": "display_data"
    }
   ],
   "source": [
    "category_installs = []\n",
    "for i in data.groupby(['Category']).__iter__():\n",
    "    category_installs.append([i[0], np.mean(i[1].Installs)])\n",
    "\n",
    "cate_inst = pd.DataFrame(category_installs)\n",
    "cate_inst = cate_inst.sort_values(by=[1], ascending=False)\n",
    "plt.bar(height=cate_inst.iloc[:10][1],align='center', x=cate_inst.iloc[:10][0], color='orange')\n",
    "\n",
    "plt.xticks(rotation='vertical')\n",
    "plt.annotate('Most Average Installs: 35,042,150', xy=('COMMUNICATION', 3.5*(10**7)), xytext=('ENTERTAINMENT', 2.5*10**7),arrowprops={'arrowstyle':'-|>', 'connectionstyle': \"angle3,angleA=90,angleB=0\"})\n",
    "plt.ylabel('Average Installs')\n",
    "plt.title('Average Installs of Categories')\n",
    "plt.show()"
   ]
  }
 ],
 "metadata": {
  "kernelspec": {
   "display_name": "Python 3",
   "language": "python",
   "name": "python3"
  },
  "language_info": {
   "codemirror_mode": {
    "name": "ipython",
    "version": 3
   },
   "file_extension": ".py",
   "mimetype": "text/x-python",
   "name": "python",
   "nbconvert_exporter": "python",
   "pygments_lexer": "ipython3",
   "version": "3.6.7"
  }
 },
 "nbformat": 4,
 "nbformat_minor": 2
}
