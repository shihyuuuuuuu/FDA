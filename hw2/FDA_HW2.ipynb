{
 "cells": [
  {
   "cell_type": "markdown",
   "metadata": {},
   "source": [
    "# Decision Tree Practice"
   ]
  },
  {
   "cell_type": "markdown",
   "metadata": {},
   "source": [
    "## Import packages"
   ]
  },
  {
   "cell_type": "code",
   "execution_count": 1,
   "metadata": {},
   "outputs": [],
   "source": [
    "import pandas as pd\n",
    "import numpy as np\n",
    "import random\n",
    "import csv\n",
    "from sklearn.tree import DecisionTreeClassifier\n",
    "from sklearn.tree import export_graphviz\n",
    "import pydotplus\n",
    "from sklearn.externals.six import StringIO   "
   ]
  },
  {
   "cell_type": "markdown",
   "metadata": {},
   "source": [
    "## Data Generation\n",
    "Create data of 100 basketball teams.<br>\n",
    "Each of them has 5 attributes(affecting whether the team can make the playoffs):<br>\n",
    "- 例行賽勝率(win_rate)\n",
    "- 例行賽平均得分(win_pts)\n",
    "- 例行賽平均失分(lose_pts)\n",
    "- 例行賽平均洋將得分(foreign_pts)\n",
    "- 中華隊球員數(CT_player)\n",
    "<br>\n",
    "<br>\n",
    "使用以上五個attributes，預測該支球隊能不能進入季後賽。"
   ]
  },
  {
   "cell_type": "markdown",
   "metadata": {},
   "source": [
    "## Data Rules\n",
    "<img src=\"data/my_plot.jpg\" width=\"700\">"
   ]
  },
  {
   "cell_type": "code",
   "execution_count": 2,
   "metadata": {},
   "outputs": [],
   "source": [
    "def enter_playoff(data):\n",
    "    if data[0] > 0.6:\n",
    "        if data[1] > 85:\n",
    "            if data[2] < 80:\n",
    "                return 1\n",
    "            elif data[3] > 35:\n",
    "                return 1\n",
    "            else:\n",
    "                return 0\n",
    "        elif data[2] < 80:\n",
    "            if data[3] > 40:\n",
    "                return 1\n",
    "            else:\n",
    "                return 0\n",
    "        else:\n",
    "            return 0\n",
    "    elif data[2] < 83:\n",
    "        if data[3] > 30:\n",
    "            if data[4] > 3:\n",
    "                return 1\n",
    "            else:\n",
    "                return 0\n",
    "        else:\n",
    "            return 0\n",
    "    else:\n",
    "        return 0\n",
    "\n",
    "def create_data(writer):\n",
    "    win_rate = round(random.uniform(0.3, 0.7), 2)\n",
    "    win_pts = round(random.uniform(80, 90), 2)\n",
    "    lose_pts = round(random.uniform(82, 90), 2)\n",
    "    foreign_pts = round(random.uniform(25, 45), 2)\n",
    "    CT_player = round(random.randint(0, 5), 2)\n",
    "    row = [win_rate, win_pts, lose_pts, foreign_pts, CT_player]\n",
    "    enter = enter_playoff(row)\n",
    "    row.append(enter)\n",
    "    writer.writerow(row)\n",
    "\n",
    "with open('data/team.csv', 'w') as csvfile:\n",
    "    filewriter = csv.writer(csvfile, delimiter=',')\n",
    "    filewriter.writerow(['勝率', '得分', '失分', '洋將得分', '中華隊球員', '進季後賽'])\n",
    "    for i in range(1000):\n",
    "        create_data(filewriter)"
   ]
  },
  {
   "cell_type": "code",
   "execution_count": 3,
   "metadata": {},
   "outputs": [
    {
     "data": {
      "text/html": [
       "<div>\n",
       "<style scoped>\n",
       "    .dataframe tbody tr th:only-of-type {\n",
       "        vertical-align: middle;\n",
       "    }\n",
       "\n",
       "    .dataframe tbody tr th {\n",
       "        vertical-align: top;\n",
       "    }\n",
       "\n",
       "    .dataframe thead th {\n",
       "        text-align: right;\n",
       "    }\n",
       "</style>\n",
       "<table border=\"1\" class=\"dataframe\">\n",
       "  <thead>\n",
       "    <tr style=\"text-align: right;\">\n",
       "      <th></th>\n",
       "      <th>勝率</th>\n",
       "      <th>得分</th>\n",
       "      <th>失分</th>\n",
       "      <th>洋將得分</th>\n",
       "      <th>中華隊球員</th>\n",
       "      <th>進季後賽</th>\n",
       "    </tr>\n",
       "  </thead>\n",
       "  <tbody>\n",
       "    <tr>\n",
       "      <th>0</th>\n",
       "      <td>0.32</td>\n",
       "      <td>87.41</td>\n",
       "      <td>86.13</td>\n",
       "      <td>36.85</td>\n",
       "      <td>1</td>\n",
       "      <td>0</td>\n",
       "    </tr>\n",
       "    <tr>\n",
       "      <th>1</th>\n",
       "      <td>0.37</td>\n",
       "      <td>82.35</td>\n",
       "      <td>86.12</td>\n",
       "      <td>33.67</td>\n",
       "      <td>2</td>\n",
       "      <td>0</td>\n",
       "    </tr>\n",
       "    <tr>\n",
       "      <th>2</th>\n",
       "      <td>0.56</td>\n",
       "      <td>87.00</td>\n",
       "      <td>86.32</td>\n",
       "      <td>30.86</td>\n",
       "      <td>5</td>\n",
       "      <td>0</td>\n",
       "    </tr>\n",
       "    <tr>\n",
       "      <th>3</th>\n",
       "      <td>0.48</td>\n",
       "      <td>89.87</td>\n",
       "      <td>85.03</td>\n",
       "      <td>32.47</td>\n",
       "      <td>4</td>\n",
       "      <td>0</td>\n",
       "    </tr>\n",
       "    <tr>\n",
       "      <th>4</th>\n",
       "      <td>0.42</td>\n",
       "      <td>84.61</td>\n",
       "      <td>82.92</td>\n",
       "      <td>42.48</td>\n",
       "      <td>4</td>\n",
       "      <td>1</td>\n",
       "    </tr>\n",
       "    <tr>\n",
       "      <th>5</th>\n",
       "      <td>0.30</td>\n",
       "      <td>80.13</td>\n",
       "      <td>83.13</td>\n",
       "      <td>41.79</td>\n",
       "      <td>2</td>\n",
       "      <td>0</td>\n",
       "    </tr>\n",
       "    <tr>\n",
       "      <th>6</th>\n",
       "      <td>0.51</td>\n",
       "      <td>87.70</td>\n",
       "      <td>89.86</td>\n",
       "      <td>36.49</td>\n",
       "      <td>5</td>\n",
       "      <td>0</td>\n",
       "    </tr>\n",
       "    <tr>\n",
       "      <th>7</th>\n",
       "      <td>0.69</td>\n",
       "      <td>84.15</td>\n",
       "      <td>87.22</td>\n",
       "      <td>39.17</td>\n",
       "      <td>5</td>\n",
       "      <td>0</td>\n",
       "    </tr>\n",
       "    <tr>\n",
       "      <th>8</th>\n",
       "      <td>0.67</td>\n",
       "      <td>89.17</td>\n",
       "      <td>82.42</td>\n",
       "      <td>35.16</td>\n",
       "      <td>5</td>\n",
       "      <td>1</td>\n",
       "    </tr>\n",
       "    <tr>\n",
       "      <th>9</th>\n",
       "      <td>0.44</td>\n",
       "      <td>84.22</td>\n",
       "      <td>87.36</td>\n",
       "      <td>35.45</td>\n",
       "      <td>0</td>\n",
       "      <td>0</td>\n",
       "    </tr>\n",
       "  </tbody>\n",
       "</table>\n",
       "</div>"
      ],
      "text/plain": [
       "     勝率     得分     失分   洋將得分  中華隊球員  進季後賽\n",
       "0  0.32  87.41  86.13  36.85      1     0\n",
       "1  0.37  82.35  86.12  33.67      2     0\n",
       "2  0.56  87.00  86.32  30.86      5     0\n",
       "3  0.48  89.87  85.03  32.47      4     0\n",
       "4  0.42  84.61  82.92  42.48      4     1\n",
       "5  0.30  80.13  83.13  41.79      2     0\n",
       "6  0.51  87.70  89.86  36.49      5     0\n",
       "7  0.69  84.15  87.22  39.17      5     0\n",
       "8  0.67  89.17  82.42  35.16      5     1\n",
       "9  0.44  84.22  87.36  35.45      0     0"
      ]
     },
     "execution_count": 3,
     "metadata": {},
     "output_type": "execute_result"
    }
   ],
   "source": [
    "data = pd.read_csv('data/team.csv')\n",
    "data.head(10)"
   ]
  },
  {
   "cell_type": "code",
   "execution_count": 4,
   "metadata": {},
   "outputs": [],
   "source": [
    "answer = data['進季後賽'].values\n",
    "data = data.drop('進季後賽', 1)"
   ]
  },
  {
   "cell_type": "code",
   "execution_count": 5,
   "metadata": {},
   "outputs": [],
   "source": [
    "train_x = data[:700]\n",
    "test_x = data[700:]\n",
    "train_y = answer[:700]\n",
    "test_y = answer[700:]"
   ]
  },
  {
   "cell_type": "code",
   "execution_count": 6,
   "metadata": {
    "scrolled": true
   },
   "outputs": [
    {
     "data": {
      "text/plain": [
       "True"
      ]
     },
     "execution_count": 6,
     "metadata": {},
     "output_type": "execute_result"
    }
   ],
   "source": [
    "dtree=DecisionTreeClassifier(max_depth=4)\n",
    "dtree.fit(train_x,train_y)\n",
    "\n",
    "dot_data = StringIO()\n",
    "export_graphviz(dtree, \n",
    "                out_file=dot_data,  \n",
    "                filled=True, \n",
    "                feature_names=list(data),\n",
    "                class_names=['Not Enter','Enter'],\n",
    "                special_characters=True)\n",
    "\n",
    "graph = pydotplus.graph_from_dot_data(dot_data.getvalue())  \n",
    "graph.write_pdf(\"data/tree.pdf\")"
   ]
  },
  {
   "cell_type": "markdown",
   "metadata": {},
   "source": [
    "## Result\n",
    "\n",
    "在tree的上半部份跟原本自己畫得很像，下半部的比較順序則有一些差異，不過抓到的臨界點（小於多少或大於多少）跟原本定的差不多。\n",
    "\n",
    "<img src=\"data/tree.png\" width=\"700\">"
   ]
  },
  {
   "cell_type": "markdown",
   "metadata": {},
   "source": [
    "由於 training 和 testing 資料是根據相同的規則產生的，且彼此間沒有矛盾<br>\n",
    "因此在 testing data 的預測上相當準確。"
   ]
  },
  {
   "cell_type": "code",
   "execution_count": 7,
   "metadata": {},
   "outputs": [],
   "source": [
    "y_predict = dtree.predict(test_x)"
   ]
  },
  {
   "cell_type": "code",
   "execution_count": 8,
   "metadata": {},
   "outputs": [
    {
     "data": {
      "text/plain": [
       "1.0"
      ]
     },
     "execution_count": 8,
     "metadata": {},
     "output_type": "execute_result"
    }
   ],
   "source": [
    "from sklearn.metrics import accuracy_score\n",
    "\n",
    "accuracy_score(test_y, y_predict)"
   ]
  }
 ],
 "metadata": {
  "kernelspec": {
   "display_name": "Python 3",
   "language": "python",
   "name": "python3"
  },
  "language_info": {
   "codemirror_mode": {
    "name": "ipython",
    "version": 3
   },
   "file_extension": ".py",
   "mimetype": "text/x-python",
   "name": "python",
   "nbconvert_exporter": "python",
   "pygments_lexer": "ipython3",
   "version": "3.6.7"
  }
 },
 "nbformat": 4,
 "nbformat_minor": 2
}
