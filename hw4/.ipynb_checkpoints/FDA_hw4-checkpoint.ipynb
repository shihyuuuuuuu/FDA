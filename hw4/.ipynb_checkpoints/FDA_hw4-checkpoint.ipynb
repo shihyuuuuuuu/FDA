{
 "cells": [
  {
   "cell_type": "markdown",
   "metadata": {},
   "source": [
    "# Predicting a patient's rating on a drug\n",
    "\n",
    "這個資料集來源是 UCI Machine Learning Repository，這份 [Drug Review Dataset](https://archive.ics.uci.edu/ml/datasets/Drug+Review+Dataset+%28Drugs.com%29#) 主要提供患者、症狀以及他對於某特定藥物的評論以及評分。<br>\n",
    "整份資料集被切割成train(75%)和test(25%)兩部份。"
   ]
  },
  {
   "cell_type": "markdown",
   "metadata": {},
   "source": [
    "## Part 1: Import packages and describe the dataset"
   ]
  },
  {
   "cell_type": "code",
   "execution_count": 243,
   "metadata": {},
   "outputs": [],
   "source": [
    "import pandas as pd\n",
    "import numpy as np\n",
    "import csv\n",
    "import matplotlib.pyplot as plt\n",
    "%matplotlib inline"
   ]
  },
  {
   "cell_type": "markdown",
   "metadata": {},
   "source": [
    "### Attribute Information:\n",
    "\n",
    "1. **drugName (categorical)**: name of drug 藥物名稱\n",
    "2. **condition (categorical)**: name of condition 症狀名稱\n",
    "3. **review (text)**: patient review 患者評論\n",
    "4. **rating (numerical)**: 10 star patient rating 患者評分\n",
    "5. **date (date)**: date of review entry 評論日期\n",
    "6. **usefulCount (numerical)**: number of users who found review useful 認為該評論有用的個數\n",
    "\n",
    "**Training data 和 testing data 有相同的欄位特徵。**"
   ]
  },
  {
   "cell_type": "code",
   "execution_count": 244,
   "metadata": {},
   "outputs": [],
   "source": [
    "train = pd.read_csv('drugsComTrain_raw.tsv', sep='\\t')\n",
    "test = pd.read_csv('drugsComTest_raw.tsv', sep='\\t')"
   ]
  },
  {
   "cell_type": "code",
   "execution_count": 245,
   "metadata": {},
   "outputs": [
    {
     "name": "stdout",
     "output_type": "stream",
     "text": [
      "Train shape: (161297, 7)\n",
      "Test shape: (53766, 7)\n"
     ]
    },
    {
     "data": {
      "text/html": [
       "<div>\n",
       "<style scoped>\n",
       "    .dataframe tbody tr th:only-of-type {\n",
       "        vertical-align: middle;\n",
       "    }\n",
       "\n",
       "    .dataframe tbody tr th {\n",
       "        vertical-align: top;\n",
       "    }\n",
       "\n",
       "    .dataframe thead th {\n",
       "        text-align: right;\n",
       "    }\n",
       "</style>\n",
       "<table border=\"1\" class=\"dataframe\">\n",
       "  <thead>\n",
       "    <tr style=\"text-align: right;\">\n",
       "      <th></th>\n",
       "      <th>Unnamed: 0</th>\n",
       "      <th>drugName</th>\n",
       "      <th>condition</th>\n",
       "      <th>review</th>\n",
       "      <th>rating</th>\n",
       "      <th>date</th>\n",
       "      <th>usefulCount</th>\n",
       "    </tr>\n",
       "  </thead>\n",
       "  <tbody>\n",
       "    <tr>\n",
       "      <th>0</th>\n",
       "      <td>206461</td>\n",
       "      <td>Valsartan</td>\n",
       "      <td>Left Ventricular Dysfunction</td>\n",
       "      <td>\"It has no side effect, I take it in combinati...</td>\n",
       "      <td>9.0</td>\n",
       "      <td>May 20, 2012</td>\n",
       "      <td>27</td>\n",
       "    </tr>\n",
       "    <tr>\n",
       "      <th>1</th>\n",
       "      <td>95260</td>\n",
       "      <td>Guanfacine</td>\n",
       "      <td>ADHD</td>\n",
       "      <td>\"My son is halfway through his fourth week of ...</td>\n",
       "      <td>8.0</td>\n",
       "      <td>April 27, 2010</td>\n",
       "      <td>192</td>\n",
       "    </tr>\n",
       "    <tr>\n",
       "      <th>2</th>\n",
       "      <td>92703</td>\n",
       "      <td>Lybrel</td>\n",
       "      <td>Birth Control</td>\n",
       "      <td>\"I used to take another oral contraceptive, wh...</td>\n",
       "      <td>5.0</td>\n",
       "      <td>December 14, 2009</td>\n",
       "      <td>17</td>\n",
       "    </tr>\n",
       "    <tr>\n",
       "      <th>3</th>\n",
       "      <td>138000</td>\n",
       "      <td>Ortho Evra</td>\n",
       "      <td>Birth Control</td>\n",
       "      <td>\"This is my first time using any form of birth...</td>\n",
       "      <td>8.0</td>\n",
       "      <td>November 3, 2015</td>\n",
       "      <td>10</td>\n",
       "    </tr>\n",
       "    <tr>\n",
       "      <th>4</th>\n",
       "      <td>35696</td>\n",
       "      <td>Buprenorphine / naloxone</td>\n",
       "      <td>Opiate Dependence</td>\n",
       "      <td>\"Suboxone has completely turned my life around...</td>\n",
       "      <td>9.0</td>\n",
       "      <td>November 27, 2016</td>\n",
       "      <td>37</td>\n",
       "    </tr>\n",
       "  </tbody>\n",
       "</table>\n",
       "</div>"
      ],
      "text/plain": [
       "   Unnamed: 0                  drugName                     condition  \\\n",
       "0      206461                 Valsartan  Left Ventricular Dysfunction   \n",
       "1       95260                Guanfacine                          ADHD   \n",
       "2       92703                    Lybrel                 Birth Control   \n",
       "3      138000                Ortho Evra                 Birth Control   \n",
       "4       35696  Buprenorphine / naloxone             Opiate Dependence   \n",
       "\n",
       "                                              review  rating  \\\n",
       "0  \"It has no side effect, I take it in combinati...     9.0   \n",
       "1  \"My son is halfway through his fourth week of ...     8.0   \n",
       "2  \"I used to take another oral contraceptive, wh...     5.0   \n",
       "3  \"This is my first time using any form of birth...     8.0   \n",
       "4  \"Suboxone has completely turned my life around...     9.0   \n",
       "\n",
       "                date  usefulCount  \n",
       "0       May 20, 2012           27  \n",
       "1     April 27, 2010          192  \n",
       "2  December 14, 2009           17  \n",
       "3   November 3, 2015           10  \n",
       "4  November 27, 2016           37  "
      ]
     },
     "execution_count": 245,
     "metadata": {},
     "output_type": "execute_result"
    }
   ],
   "source": [
    "print('Train shape:',train.shape)\n",
    "print('Test shape:', test.shape)\n",
    "train.head()"
   ]
  },
  {
   "cell_type": "markdown",
   "metadata": {},
   "source": [
    "### Goal: Predict the patient rating in the testing data\n",
    "目標是預測測試資料中的 rating 欄位，因此將 train 和 test 的該欄位 drop 掉作為 label 。"
   ]
  },
  {
   "cell_type": "code",
   "execution_count": 246,
   "metadata": {},
   "outputs": [],
   "source": [
    "train_y = pd.DataFrame(train['rating'])\n",
    "train_x = train.drop(['rating'], axis=1)\n",
    "test_y = pd.DataFrame(test['rating'])\n",
    "test_x = test.drop(['rating'], axis=1)"
   ]
  },
  {
   "cell_type": "markdown",
   "metadata": {},
   "source": [
    "## Part 2: Data Exploration"
   ]
  },
  {
   "cell_type": "code",
   "execution_count": 247,
   "metadata": {
    "scrolled": true
   },
   "outputs": [
    {
     "name": "stdout",
     "output_type": "stream",
     "text": [
      "Number of drugs in train: 3436\n",
      "Number of conditions in train: 885\n"
     ]
    }
   ],
   "source": [
    "print('Number of drugs in train:', train_x['drugName'].unique().size)\n",
    "print('Number of conditions in train:', train_x['condition'].unique().size)"
   ]
  },
  {
   "cell_type": "code",
   "execution_count": 248,
   "metadata": {
    "scrolled": false
   },
   "outputs": [
    {
     "data": {
      "text/plain": [
       "Levonorgestrel                       3657\n",
       "Etonogestrel                         3336\n",
       "Ethinyl estradiol / norethindrone    2850\n",
       "Nexplanon                            2156\n",
       "Ethinyl estradiol / norgestimate     2117\n",
       "Name: drugName, dtype: int64"
      ]
     },
     "execution_count": 248,
     "metadata": {},
     "output_type": "execute_result"
    }
   ],
   "source": [
    "# List some of the drug names\n",
    "train_x['drugName'].value_counts().head()"
   ]
  },
  {
   "cell_type": "markdown",
   "metadata": {},
   "source": [
    "See if all the ```drug names``` and ```conditions``` in the testing data are also in the training data"
   ]
  },
  {
   "cell_type": "code",
   "execution_count": 249,
   "metadata": {
    "scrolled": true
   },
   "outputs": [
    {
     "data": {
      "text/plain": [
       "True     53493\n",
       "False      273\n",
       "Name: drugName, dtype: int64"
      ]
     },
     "execution_count": 249,
     "metadata": {},
     "output_type": "execute_result"
    }
   ],
   "source": [
    "test_x['drugName'].isin(train_x['drugName']).value_counts()"
   ]
  },
  {
   "cell_type": "code",
   "execution_count": 250,
   "metadata": {
    "scrolled": true
   },
   "outputs": [
    {
     "data": {
      "text/plain": [
       "True     53720\n",
       "False       46\n",
       "Name: condition, dtype: int64"
      ]
     },
     "execution_count": 250,
     "metadata": {},
     "output_type": "execute_result"
    }
   ],
   "source": [
    "test_x['condition'].isin(train_x['condition']).value_counts()"
   ]
  },
  {
   "cell_type": "markdown",
   "metadata": {},
   "source": [
    "We can see that almost all ```drugName```s and ```condition```s in the testing data also appear in the training data. However there are still some of them only appear in the testing data."
   ]
  },
  {
   "cell_type": "markdown",
   "metadata": {},
   "source": [
    "## Part 3: Data Preprocessing"
   ]
  },
  {
   "cell_type": "markdown",
   "metadata": {},
   "source": [
    "### Encode ```drugName``` and ```condition```"
   ]
  },
  {
   "cell_type": "code",
   "execution_count": 251,
   "metadata": {
    "scrolled": true
   },
   "outputs": [
    {
     "data": {
      "text/html": [
       "<div>\n",
       "<style scoped>\n",
       "    .dataframe tbody tr th:only-of-type {\n",
       "        vertical-align: middle;\n",
       "    }\n",
       "\n",
       "    .dataframe tbody tr th {\n",
       "        vertical-align: top;\n",
       "    }\n",
       "\n",
       "    .dataframe thead th {\n",
       "        text-align: right;\n",
       "    }\n",
       "</style>\n",
       "<table border=\"1\" class=\"dataframe\">\n",
       "  <thead>\n",
       "    <tr style=\"text-align: right;\">\n",
       "      <th></th>\n",
       "      <th>drugName</th>\n",
       "    </tr>\n",
       "  </thead>\n",
       "  <tbody>\n",
       "    <tr>\n",
       "      <th>0</th>\n",
       "      <td>Valsartan</td>\n",
       "    </tr>\n",
       "    <tr>\n",
       "      <th>1</th>\n",
       "      <td>Guanfacine</td>\n",
       "    </tr>\n",
       "    <tr>\n",
       "      <th>2</th>\n",
       "      <td>Lybrel</td>\n",
       "    </tr>\n",
       "    <tr>\n",
       "      <th>3</th>\n",
       "      <td>Ortho Evra</td>\n",
       "    </tr>\n",
       "    <tr>\n",
       "      <th>4</th>\n",
       "      <td>Buprenorphine / naloxone</td>\n",
       "    </tr>\n",
       "  </tbody>\n",
       "</table>\n",
       "</div>"
      ],
      "text/plain": [
       "                   drugName\n",
       "0                 Valsartan\n",
       "1                Guanfacine\n",
       "2                    Lybrel\n",
       "3                Ortho Evra\n",
       "4  Buprenorphine / naloxone"
      ]
     },
     "execution_count": 251,
     "metadata": {},
     "output_type": "execute_result"
    }
   ],
   "source": [
    "drug_encode = pd.DataFrame(train_x['drugName'].unique())\n",
    "drug_encode.columns = ['drugName']\n",
    "condition_encode = pd.DataFrame(train_x['condition'].unique())\n",
    "condition_encode.columns = ['condition']\n",
    "drug_encode.head()"
   ]
  },
  {
   "cell_type": "code",
   "execution_count": 252,
   "metadata": {},
   "outputs": [],
   "source": [
    "drug_dict = {}\n",
    "for i, name in enumerate(drug_encode['drugName']):\n",
    "    drug_dict[name] = i\n",
    "cond_dict = {}\n",
    "for i, name in enumerate(condition_encode['condition']):\n",
    "    cond_dict[name] = i"
   ]
  },
  {
   "cell_type": "code",
   "execution_count": 253,
   "metadata": {},
   "outputs": [
    {
     "name": "stdout",
     "output_type": "stream",
     "text": [
      "0\n",
      "20000\n",
      "40000\n",
      "60000\n",
      "80000\n",
      "100000\n",
      "120000\n",
      "140000\n",
      "160000\n"
     ]
    }
   ],
   "source": [
    "new_drug = []\n",
    "new_cond = []\n",
    "for index in range(train_x['drugName'].size):\n",
    "    new_drug.append(drug_dict[train_x.loc[index]['drugName']])\n",
    "    new_cond.append(cond_dict[train_x.loc[index]['condition']])\n",
    "    if index % 20000 == 0:\n",
    "        print(index)"
   ]
  },
  {
   "cell_type": "code",
   "execution_count": 254,
   "metadata": {},
   "outputs": [],
   "source": [
    "train_x.loc[:, 'drugName'] = new_drug\n",
    "train_x.loc[:, 'condition'] = new_cond"
   ]
  },
  {
   "cell_type": "code",
   "execution_count": 255,
   "metadata": {},
   "outputs": [
    {
     "data": {
      "text/html": [
       "<div>\n",
       "<style scoped>\n",
       "    .dataframe tbody tr th:only-of-type {\n",
       "        vertical-align: middle;\n",
       "    }\n",
       "\n",
       "    .dataframe tbody tr th {\n",
       "        vertical-align: top;\n",
       "    }\n",
       "\n",
       "    .dataframe thead th {\n",
       "        text-align: right;\n",
       "    }\n",
       "</style>\n",
       "<table border=\"1\" class=\"dataframe\">\n",
       "  <thead>\n",
       "    <tr style=\"text-align: right;\">\n",
       "      <th></th>\n",
       "      <th>Unnamed: 0</th>\n",
       "      <th>drugName</th>\n",
       "      <th>condition</th>\n",
       "      <th>review</th>\n",
       "      <th>date</th>\n",
       "      <th>usefulCount</th>\n",
       "    </tr>\n",
       "  </thead>\n",
       "  <tbody>\n",
       "    <tr>\n",
       "      <th>0</th>\n",
       "      <td>206461</td>\n",
       "      <td>0</td>\n",
       "      <td>0</td>\n",
       "      <td>\"It has no side effect, I take it in combinati...</td>\n",
       "      <td>May 20, 2012</td>\n",
       "      <td>27</td>\n",
       "    </tr>\n",
       "    <tr>\n",
       "      <th>1</th>\n",
       "      <td>95260</td>\n",
       "      <td>1</td>\n",
       "      <td>1</td>\n",
       "      <td>\"My son is halfway through his fourth week of ...</td>\n",
       "      <td>April 27, 2010</td>\n",
       "      <td>192</td>\n",
       "    </tr>\n",
       "    <tr>\n",
       "      <th>2</th>\n",
       "      <td>92703</td>\n",
       "      <td>2</td>\n",
       "      <td>2</td>\n",
       "      <td>\"I used to take another oral contraceptive, wh...</td>\n",
       "      <td>December 14, 2009</td>\n",
       "      <td>17</td>\n",
       "    </tr>\n",
       "    <tr>\n",
       "      <th>3</th>\n",
       "      <td>138000</td>\n",
       "      <td>3</td>\n",
       "      <td>2</td>\n",
       "      <td>\"This is my first time using any form of birth...</td>\n",
       "      <td>November 3, 2015</td>\n",
       "      <td>10</td>\n",
       "    </tr>\n",
       "    <tr>\n",
       "      <th>4</th>\n",
       "      <td>35696</td>\n",
       "      <td>4</td>\n",
       "      <td>3</td>\n",
       "      <td>\"Suboxone has completely turned my life around...</td>\n",
       "      <td>November 27, 2016</td>\n",
       "      <td>37</td>\n",
       "    </tr>\n",
       "  </tbody>\n",
       "</table>\n",
       "</div>"
      ],
      "text/plain": [
       "   Unnamed: 0  drugName  condition  \\\n",
       "0      206461         0          0   \n",
       "1       95260         1          1   \n",
       "2       92703         2          2   \n",
       "3      138000         3          2   \n",
       "4       35696         4          3   \n",
       "\n",
       "                                              review               date  \\\n",
       "0  \"It has no side effect, I take it in combinati...       May 20, 2012   \n",
       "1  \"My son is halfway through his fourth week of ...     April 27, 2010   \n",
       "2  \"I used to take another oral contraceptive, wh...  December 14, 2009   \n",
       "3  \"This is my first time using any form of birth...   November 3, 2015   \n",
       "4  \"Suboxone has completely turned my life around...  November 27, 2016   \n",
       "\n",
       "   usefulCount  \n",
       "0           27  \n",
       "1          192  \n",
       "2           17  \n",
       "3           10  \n",
       "4           37  "
      ]
     },
     "execution_count": 255,
     "metadata": {},
     "output_type": "execute_result"
    }
   ],
   "source": [
    "train_x.head()"
   ]
  },
  {
   "cell_type": "code",
   "execution_count": null,
   "metadata": {},
   "outputs": [],
   "source": [
    "test_new_drug = []\n",
    "test_new_cond = []\n",
    "for index in range(test_x['drugName'].size):\n",
    "    try:\n",
    "        test_new_drug.append(drug_dict[test_x.loc[index]['drugName']])\n",
    "    except KeyError:\n",
    "        drug_dict[test_x.loc[index]['drugName']] = list(drug_dict.values())[-1] + 1\n",
    "        test_new_drug.append(drug_dict[test_x.loc[index]['drugName']])\n",
    "    try:\n",
    "        test_new_cond.append(cond_dict[test_x.loc[index]['condition']])\n",
    "    except KeyError:\n",
    "        cond_dict[test_x.loc[index]['condition']] = list(cond_dict.values())[-1] + 1\n",
    "        test_new_cond.append(cond_dict[test_x.loc[index]['condition']])\n",
    "    if index % 20000 == 0:\n",
    "        print(index)"
   ]
  },
  {
   "cell_type": "code",
   "execution_count": 256,
   "metadata": {},
   "outputs": [],
   "source": [
    "test_x.loc[:, 'drugName'] = test_new_drug\n",
    "test_x.loc[:, 'condition'] = test_new_cond"
   ]
  },
  {
   "cell_type": "code",
   "execution_count": 257,
   "metadata": {},
   "outputs": [
    {
     "data": {
      "text/html": [
       "<div>\n",
       "<style scoped>\n",
       "    .dataframe tbody tr th:only-of-type {\n",
       "        vertical-align: middle;\n",
       "    }\n",
       "\n",
       "    .dataframe tbody tr th {\n",
       "        vertical-align: top;\n",
       "    }\n",
       "\n",
       "    .dataframe thead th {\n",
       "        text-align: right;\n",
       "    }\n",
       "</style>\n",
       "<table border=\"1\" class=\"dataframe\">\n",
       "  <thead>\n",
       "    <tr style=\"text-align: right;\">\n",
       "      <th></th>\n",
       "      <th>Unnamed: 0</th>\n",
       "      <th>drugName</th>\n",
       "      <th>condition</th>\n",
       "      <th>review</th>\n",
       "      <th>date</th>\n",
       "      <th>usefulCount</th>\n",
       "    </tr>\n",
       "  </thead>\n",
       "  <tbody>\n",
       "    <tr>\n",
       "      <th>0</th>\n",
       "      <td>163740</td>\n",
       "      <td>91</td>\n",
       "      <td>9</td>\n",
       "      <td>\"I&amp;#039;ve tried a few antidepressants over th...</td>\n",
       "      <td>February 28, 2012</td>\n",
       "      <td>22</td>\n",
       "    </tr>\n",
       "    <tr>\n",
       "      <th>1</th>\n",
       "      <td>206473</td>\n",
       "      <td>425</td>\n",
       "      <td>240</td>\n",
       "      <td>\"My son has Crohn&amp;#039;s disease and has done ...</td>\n",
       "      <td>May 17, 2009</td>\n",
       "      <td>17</td>\n",
       "    </tr>\n",
       "    <tr>\n",
       "      <th>2</th>\n",
       "      <td>159672</td>\n",
       "      <td>351</td>\n",
       "      <td>13</td>\n",
       "      <td>\"Quick reduction of symptoms\"</td>\n",
       "      <td>September 29, 2017</td>\n",
       "      <td>3</td>\n",
       "    </tr>\n",
       "    <tr>\n",
       "      <th>3</th>\n",
       "      <td>39293</td>\n",
       "      <td>39</td>\n",
       "      <td>74</td>\n",
       "      <td>\"Contrave combines drugs that were used for al...</td>\n",
       "      <td>March 5, 2017</td>\n",
       "      <td>35</td>\n",
       "    </tr>\n",
       "    <tr>\n",
       "      <th>4</th>\n",
       "      <td>97768</td>\n",
       "      <td>1339</td>\n",
       "      <td>2</td>\n",
       "      <td>\"I have been on this birth control for one cyc...</td>\n",
       "      <td>October 22, 2015</td>\n",
       "      <td>4</td>\n",
       "    </tr>\n",
       "  </tbody>\n",
       "</table>\n",
       "</div>"
      ],
      "text/plain": [
       "   Unnamed: 0  drugName  condition  \\\n",
       "0      163740        91          9   \n",
       "1      206473       425        240   \n",
       "2      159672       351         13   \n",
       "3       39293        39         74   \n",
       "4       97768      1339          2   \n",
       "\n",
       "                                              review                date  \\\n",
       "0  \"I&#039;ve tried a few antidepressants over th...   February 28, 2012   \n",
       "1  \"My son has Crohn&#039;s disease and has done ...        May 17, 2009   \n",
       "2                      \"Quick reduction of symptoms\"  September 29, 2017   \n",
       "3  \"Contrave combines drugs that were used for al...       March 5, 2017   \n",
       "4  \"I have been on this birth control for one cyc...    October 22, 2015   \n",
       "\n",
       "   usefulCount  \n",
       "0           22  \n",
       "1           17  \n",
       "2            3  \n",
       "3           35  \n",
       "4            4  "
      ]
     },
     "execution_count": 257,
     "metadata": {},
     "output_type": "execute_result"
    }
   ],
   "source": [
    "test_x.head()"
   ]
  },
  {
   "cell_type": "code",
   "execution_count": 258,
   "metadata": {},
   "outputs": [],
   "source": [
    "train_x = train_x.drop(['Unnamed: 0', 'review', 'date'], axis=1)\n",
    "test_x = test_x.drop(['Unnamed: 0', 'review', 'date'], axis=1)"
   ]
  },
  {
   "cell_type": "code",
   "execution_count": 259,
   "metadata": {
    "scrolled": true
   },
   "outputs": [
    {
     "data": {
      "text/plain": [
       "(161297, 3)"
      ]
     },
     "execution_count": 259,
     "metadata": {},
     "output_type": "execute_result"
    }
   ],
   "source": [
    "train_x.shape"
   ]
  },
  {
   "cell_type": "code",
   "execution_count": 260,
   "metadata": {},
   "outputs": [],
   "source": [
    "from keras.utils import to_categorical"
   ]
  },
  {
   "cell_type": "code",
   "execution_count": 262,
   "metadata": {
    "scrolled": true
   },
   "outputs": [
    {
     "name": "stdout",
     "output_type": "stream",
     "text": [
      "(161297, 10)\n",
      "(53766, 10)\n"
     ]
    }
   ],
   "source": [
    "encode_train_y = to_categorical(train_y)\n",
    "encode_train_y = np.delete(encode_train_y, 0, 1)\n",
    "print(encode_train_y.shape)\n",
    "encode_test_y = to_categorical(test_y)\n",
    "encode_test_y = np.delete(encode_test_y, 0, 1)\n",
    "print(encode_test_y.shape)"
   ]
  },
  {
   "cell_type": "markdown",
   "metadata": {},
   "source": [
    "## Part 4: Training Model"
   ]
  },
  {
   "cell_type": "code",
   "execution_count": 285,
   "metadata": {},
   "outputs": [],
   "source": [
    "from keras.models import Sequential\n",
    "from keras.layers import Dense\n",
    "from keras import backend as K\n",
    "\n",
    "def custom_activation(x):\n",
    "    return (K.sigmoid(x) * 10)"
   ]
  },
  {
   "cell_type": "code",
   "execution_count": 287,
   "metadata": {
    "scrolled": true
   },
   "outputs": [
    {
     "name": "stdout",
     "output_type": "stream",
     "text": [
      "_________________________________________________________________\n",
      "Layer (type)                 Output Shape              Param #   \n",
      "=================================================================\n",
      "dense_99 (Dense)             (None, 10)                40        \n",
      "_________________________________________________________________\n",
      "dense_100 (Dense)            (None, 10)                110       \n",
      "_________________________________________________________________\n",
      "dense_101 (Dense)            (None, 10)                110       \n",
      "_________________________________________________________________\n",
      "dense_102 (Dense)            (None, 10)                110       \n",
      "_________________________________________________________________\n",
      "dense_103 (Dense)            (None, 10)                110       \n",
      "_________________________________________________________________\n",
      "dense_104 (Dense)            (None, 10)                110       \n",
      "_________________________________________________________________\n",
      "dense_105 (Dense)            (None, 1)                 11        \n",
      "=================================================================\n",
      "Total params: 601\n",
      "Trainable params: 601\n",
      "Non-trainable params: 0\n",
      "_________________________________________________________________\n"
     ]
    }
   ],
   "source": [
    "model = Sequential()\n",
    "model.add(Dense(units=10, input_dim=3))\n",
    "for i in range(5):\n",
    "    model.add(Dense(units=10, activation = 'relu'))\n",
    "model.add(Dense(units=1, activation=custom_activation))\n",
    "model.compile(loss='mean_squared_error', optimizer='adam', metrics=['mse'])\n",
    "model.summary()"
   ]
  },
  {
   "cell_type": "code",
   "execution_count": 289,
   "metadata": {},
   "outputs": [
    {
     "name": "stdout",
     "output_type": "stream",
     "text": [
      "Training -----------\n",
      "Train on 129037 samples, validate on 32260 samples\n",
      "Epoch 1/50\n",
      "129037/129037 [==============================] - 1s 8us/step - loss: 9.8905 - mean_squared_error: 9.8905 - val_loss: 9.7215 - val_mean_squared_error: 9.7215\n",
      "Epoch 2/50\n",
      "129037/129037 [==============================] - 1s 10us/step - loss: 9.8695 - mean_squared_error: 9.8695 - val_loss: 9.7915 - val_mean_squared_error: 9.7915\n",
      "Epoch 3/50\n",
      "129037/129037 [==============================] - 1s 8us/step - loss: 9.8773 - mean_squared_error: 9.8773 - val_loss: 9.7625 - val_mean_squared_error: 9.7625\n",
      "Epoch 4/50\n",
      "129037/129037 [==============================] - 1s 8us/step - loss: 9.8523 - mean_squared_error: 9.8523 - val_loss: 10.9613 - val_mean_squared_error: 10.9613\n",
      "Epoch 5/50\n",
      "129037/129037 [==============================] - 1s 8us/step - loss: 9.9756 - mean_squared_error: 9.9756 - val_loss: 10.5378 - val_mean_squared_error: 10.5378\n",
      "Epoch 6/50\n",
      "129037/129037 [==============================] - 1s 8us/step - loss: 10.1704 - mean_squared_error: 10.1704 - val_loss: 10.2507 - val_mean_squared_error: 10.2507\n",
      "Epoch 7/50\n",
      "129037/129037 [==============================] - 1s 8us/step - loss: 9.8605 - mean_squared_error: 9.8605 - val_loss: 9.7200 - val_mean_squared_error: 9.7200\n",
      "Epoch 8/50\n",
      "129037/129037 [==============================] - 1s 8us/step - loss: 9.8273 - mean_squared_error: 9.8273 - val_loss: 10.1985 - val_mean_squared_error: 10.1985\n",
      "Epoch 9/50\n",
      "129037/129037 [==============================] - 1s 8us/step - loss: 9.9109 - mean_squared_error: 9.9109 - val_loss: 9.8215 - val_mean_squared_error: 9.8215\n",
      "Epoch 10/50\n",
      "129037/129037 [==============================] - 1s 8us/step - loss: 9.8450 - mean_squared_error: 9.8450 - val_loss: 9.8706 - val_mean_squared_error: 9.8706\n",
      "Epoch 11/50\n",
      "129037/129037 [==============================] - 1s 8us/step - loss: 9.8497 - mean_squared_error: 9.8497 - val_loss: 10.2506 - val_mean_squared_error: 10.2506\n",
      "Epoch 12/50\n",
      "129037/129037 [==============================] - 1s 8us/step - loss: 9.9039 - mean_squared_error: 9.9039 - val_loss: 9.7227 - val_mean_squared_error: 9.7227\n",
      "Epoch 13/50\n",
      "129037/129037 [==============================] - 1s 8us/step - loss: 9.8462 - mean_squared_error: 9.8462 - val_loss: 9.7395 - val_mean_squared_error: 9.7395\n",
      "Epoch 14/50\n",
      "129037/129037 [==============================] - 1s 11us/step - loss: 9.8309 - mean_squared_error: 9.8309 - val_loss: 10.4425 - val_mean_squared_error: 10.4425\n",
      "Epoch 15/50\n",
      "129037/129037 [==============================] - 1s 9us/step - loss: 9.9311 - mean_squared_error: 9.9311 - val_loss: 9.8347 - val_mean_squared_error: 9.8347\n",
      "Epoch 16/50\n",
      "129037/129037 [==============================] - 1s 8us/step - loss: 9.8687 - mean_squared_error: 9.8687 - val_loss: 9.7924 - val_mean_squared_error: 9.7924\n",
      "Epoch 17/50\n",
      "129037/129037 [==============================] - 1s 8us/step - loss: 9.8685 - mean_squared_error: 9.8685 - val_loss: 16.7362 - val_mean_squared_error: 16.7362\n",
      "Epoch 18/50\n",
      "129037/129037 [==============================] - 1s 8us/step - loss: 12.1758 - mean_squared_error: 12.1758 - val_loss: 12.1986 - val_mean_squared_error: 12.1986\n",
      "Epoch 19/50\n",
      "129037/129037 [==============================] - 1s 8us/step - loss: 10.2790 - mean_squared_error: 10.2790 - val_loss: 9.7560 - val_mean_squared_error: 9.7560\n",
      "Epoch 20/50\n",
      "129037/129037 [==============================] - 1s 8us/step - loss: 9.8688 - mean_squared_error: 9.8688 - val_loss: 10.3190 - val_mean_squared_error: 10.3190\n",
      "Epoch 21/50\n",
      "129037/129037 [==============================] - 1s 9us/step - loss: 9.9978 - mean_squared_error: 9.9978 - val_loss: 9.9195 - val_mean_squared_error: 9.9195\n",
      "Epoch 22/50\n",
      "129037/129037 [==============================] - 1s 10us/step - loss: 9.8600 - mean_squared_error: 9.8600 - val_loss: 10.1250 - val_mean_squared_error: 10.1250\n",
      "Epoch 23/50\n",
      "129037/129037 [==============================] - 1s 9us/step - loss: 9.8808 - mean_squared_error: 9.8808 - val_loss: 9.8506 - val_mean_squared_error: 9.8506\n",
      "Epoch 24/50\n",
      "129037/129037 [==============================] - 1s 8us/step - loss: 9.8629 - mean_squared_error: 9.8629 - val_loss: 9.7172 - val_mean_squared_error: 9.7172\n",
      "Epoch 25/50\n",
      "129037/129037 [==============================] - 1s 8us/step - loss: 9.8370 - mean_squared_error: 9.8370 - val_loss: 11.3215 - val_mean_squared_error: 11.3215\n",
      "Epoch 26/50\n",
      "129037/129037 [==============================] - 1s 8us/step - loss: 9.9488 - mean_squared_error: 9.9488 - val_loss: 10.1082 - val_mean_squared_error: 10.1082\n",
      "Epoch 27/50\n",
      "129037/129037 [==============================] - 1s 8us/step - loss: 9.8857 - mean_squared_error: 9.8857 - val_loss: 10.1530 - val_mean_squared_error: 10.1530\n",
      "Epoch 28/50\n",
      "129037/129037 [==============================] - 1s 8us/step - loss: 9.9061 - mean_squared_error: 9.9061 - val_loss: 10.0182 - val_mean_squared_error: 10.0182\n",
      "Epoch 29/50\n",
      "129037/129037 [==============================] - 1s 8us/step - loss: 9.8699 - mean_squared_error: 9.8699 - val_loss: 9.8827 - val_mean_squared_error: 9.8827\n",
      "Epoch 30/50\n",
      "129037/129037 [==============================] - 1s 8us/step - loss: 9.8369 - mean_squared_error: 9.8369 - val_loss: 9.7279 - val_mean_squared_error: 9.7279\n",
      "Epoch 31/50\n",
      "129037/129037 [==============================] - 1s 8us/step - loss: 9.8133 - mean_squared_error: 9.8133 - val_loss: 10.6369 - val_mean_squared_error: 10.6369\n",
      "Epoch 32/50\n",
      "129037/129037 [==============================] - 1s 8us/step - loss: 9.8907 - mean_squared_error: 9.8907 - val_loss: 10.1977 - val_mean_squared_error: 10.1977\n",
      "Epoch 33/50\n",
      "129037/129037 [==============================] - 1s 10us/step - loss: 9.8685 - mean_squared_error: 9.8685 - val_loss: 9.7310 - val_mean_squared_error: 9.7310\n",
      "Epoch 34/50\n",
      "129037/129037 [==============================] - 1s 8us/step - loss: 9.8407 - mean_squared_error: 9.8407 - val_loss: 9.6980 - val_mean_squared_error: 9.6980\n",
      "Epoch 35/50\n",
      "129037/129037 [==============================] - 1s 8us/step - loss: 9.8250 - mean_squared_error: 9.8250 - val_loss: 10.2072 - val_mean_squared_error: 10.2072\n",
      "Epoch 36/50\n",
      "129037/129037 [==============================] - 1s 8us/step - loss: 9.9259 - mean_squared_error: 9.9259 - val_loss: 9.7786 - val_mean_squared_error: 9.7786\n",
      "Epoch 37/50\n",
      "129037/129037 [==============================] - 1s 8us/step - loss: 9.8203 - mean_squared_error: 9.8203 - val_loss: 10.0487 - val_mean_squared_error: 10.0487\n",
      "Epoch 38/50\n",
      "129037/129037 [==============================] - 1s 8us/step - loss: 9.8365 - mean_squared_error: 9.8365 - val_loss: 9.8074 - val_mean_squared_error: 9.8074\n",
      "Epoch 39/50\n",
      "129037/129037 [==============================] - 1s 8us/step - loss: 9.8800 - mean_squared_error: 9.8800 - val_loss: 10.8732 - val_mean_squared_error: 10.8732\n",
      "Epoch 40/50\n",
      "129037/129037 [==============================] - 1s 8us/step - loss: 9.9025 - mean_squared_error: 9.9025 - val_loss: 10.2482 - val_mean_squared_error: 10.2482\n",
      "Epoch 41/50\n",
      "129037/129037 [==============================] - 1s 8us/step - loss: 9.9386 - mean_squared_error: 9.9386 - val_loss: 9.9625 - val_mean_squared_error: 9.9625\n",
      "Epoch 42/50\n",
      "129037/129037 [==============================] - 1s 8us/step - loss: 9.8616 - mean_squared_error: 9.8616 - val_loss: 9.7035 - val_mean_squared_error: 9.7035\n",
      "Epoch 43/50\n",
      "129037/129037 [==============================] - 1s 8us/step - loss: 9.8215 - mean_squared_error: 9.8215 - val_loss: 11.4272 - val_mean_squared_error: 11.4272\n",
      "Epoch 44/50\n",
      "129037/129037 [==============================] - 1s 7us/step - loss: 9.9935 - mean_squared_error: 9.9935 - val_loss: 10.0286 - val_mean_squared_error: 10.0286\n",
      "Epoch 45/50\n",
      "129037/129037 [==============================] - 1s 8us/step - loss: 9.8201 - mean_squared_error: 9.8201 - val_loss: 9.6954 - val_mean_squared_error: 9.6954\n",
      "Epoch 46/50\n",
      "129037/129037 [==============================] - 1s 8us/step - loss: 9.7931 - mean_squared_error: 9.7931 - val_loss: 9.7004 - val_mean_squared_error: 9.7004\n",
      "Epoch 47/50\n",
      "129037/129037 [==============================] - 1s 8us/step - loss: 9.8146 - mean_squared_error: 9.8146 - val_loss: 9.8540 - val_mean_squared_error: 9.8540\n",
      "Epoch 48/50\n",
      "129037/129037 [==============================] - 1s 8us/step - loss: 9.8185 - mean_squared_error: 9.8185 - val_loss: 9.7926 - val_mean_squared_error: 9.7926\n"
     ]
    },
    {
     "name": "stdout",
     "output_type": "stream",
     "text": [
      "Epoch 49/50\n",
      "129037/129037 [==============================] - 1s 9us/step - loss: 9.8133 - mean_squared_error: 9.8133 - val_loss: 9.8059 - val_mean_squared_error: 9.8059\n",
      "Epoch 50/50\n",
      "129037/129037 [==============================] - 1s 7us/step - loss: 9.8566 - mean_squared_error: 9.8566 - val_loss: 10.1319 - val_mean_squared_error: 10.1319\n"
     ]
    },
    {
     "data": {
      "text/plain": [
       "<keras.callbacks.History at 0x7fcc7ba92ba8>"
      ]
     },
     "execution_count": 289,
     "metadata": {},
     "output_type": "execute_result"
    }
   ],
   "source": [
    "print('Training -----------')\n",
    "model.fit(train_x, train_y, epochs=50, batch_size=2048, validation_split=0.2)"
   ]
  },
  {
   "cell_type": "code",
   "execution_count": 318,
   "metadata": {},
   "outputs": [],
   "source": [
    "pred_y = model.predict(test_x)\n",
    "pred = []\n",
    "for i in pred_y:\n",
    "    pred.append(i[0])"
   ]
  },
  {
   "cell_type": "code",
   "execution_count": 320,
   "metadata": {
    "scrolled": true
   },
   "outputs": [
    {
     "name": "stdout",
     "output_type": "stream",
     "text": [
      "RMSE: 3.2122784675117853\n"
     ]
    }
   ],
   "source": [
    "print('RMSE:', np.sqrt(np.mean(np.square(pred - test_y['rating'].values))))"
   ]
  }
 ],
 "metadata": {
  "kernelspec": {
   "display_name": "Python 3",
   "language": "python",
   "name": "python3"
  },
  "language_info": {
   "codemirror_mode": {
    "name": "ipython",
    "version": 3
   },
   "file_extension": ".py",
   "mimetype": "text/x-python",
   "name": "python",
   "nbconvert_exporter": "python",
   "pygments_lexer": "ipython3",
   "version": "3.6.7"
  }
 },
 "nbformat": 4,
 "nbformat_minor": 2
}
